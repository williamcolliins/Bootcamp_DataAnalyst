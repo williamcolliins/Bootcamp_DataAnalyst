{
 "cells": [
  {
   "cell_type": "markdown",
   "metadata": {},
   "source": [
    "FUNCTION RECURSIVE"
   ]
  },
  {
   "cell_type": "code",
   "execution_count": 1,
   "metadata": {},
   "outputs": [
    {
     "name": "stdout",
     "output_type": "stream",
     "text": [
      "5\n",
      "4\n",
      "3\n",
      "2\n",
      "1\n"
     ]
    }
   ],
   "source": [
    "def faktorial(n):\n",
    "    if n == 0:\n",
    "        return 0\n",
    "    \n",
    "    print(n)\n",
    "    faktorial(n-1)\n",
    "\n",
    "faktorial(5)\n"
   ]
  },
  {
   "cell_type": "code",
   "execution_count": 4,
   "metadata": {},
   "outputs": [
    {
     "name": "stdout",
     "output_type": "stream",
     "text": [
      "5\n",
      "4\n",
      "3\n",
      "2\n",
      "1\n"
     ]
    },
    {
     "data": {
      "text/plain": [
       "120"
      ]
     },
     "execution_count": 4,
     "metadata": {},
     "output_type": "execute_result"
    }
   ],
   "source": [
    "def test(n):\n",
    "    if n == 0:\n",
    "        return True\n",
    "    else :\n",
    "        print(n)\n",
    "        return n * test(n - 1)\n",
    "\n",
    "test(5)"
   ]
  },
  {
   "cell_type": "code",
   "execution_count": 5,
   "metadata": {},
   "outputs": [
    {
     "name": "stdout",
     "output_type": "stream",
     "text": [
      "5\n",
      "4\n",
      "3\n",
      "2\n",
      "1\n"
     ]
    },
    {
     "data": {
      "text/plain": [
       "0"
      ]
     },
     "execution_count": 5,
     "metadata": {},
     "output_type": "execute_result"
    }
   ],
   "source": [
    "def test(n):\n",
    "    if n == 0:\n",
    "        return False\n",
    "    else :\n",
    "        print(n)\n",
    "        return n * test(n - 1)\n",
    "\n",
    "test(5)"
   ]
  },
  {
   "cell_type": "markdown",
   "metadata": {},
   "source": [
    "ASSIGNMENT"
   ]
  },
  {
   "cell_type": "code",
   "execution_count": 6,
   "metadata": {},
   "outputs": [
    {
     "name": "stdout",
     "output_type": "stream",
     "text": [
      "10\n",
      "50\n"
     ]
    }
   ],
   "source": [
    "# 2\n",
    "\n",
    "data = [10, 20, 30, 40, 50]\n",
    "\n",
    "print(min(data))\n",
    "print(max(data))"
   ]
  },
  {
   "cell_type": "markdown",
   "metadata": {},
   "source": [
    "FUNCTION ARGS & KWARGS"
   ]
  },
  {
   "cell_type": "code",
   "execution_count": null,
   "metadata": {},
   "outputs": [
    {
     "name": "stdout",
     "output_type": "stream",
     "text": [
      "('satu', 'dua', 'tiga')\n"
     ]
    }
   ],
   "source": [
    "def tampil(*a): # ARGS\n",
    "    print(a)\n",
    "\n",
    "tampil(\"satu\", \"dua\", \"tiga\")"
   ]
  },
  {
   "cell_type": "code",
   "execution_count": 9,
   "metadata": {},
   "outputs": [
    {
     "name": "stdout",
     "output_type": "stream",
     "text": [
      "('satu', 'dua', 'tiga')\n",
      "satu\n",
      "dua\n",
      "tiga\n"
     ]
    }
   ],
   "source": [
    "def tampil(*a):\n",
    "    print(a)\n",
    "    print(a[0])\n",
    "    print(a[1])\n",
    "    print(a[2])\n",
    "\n",
    "tampil(\"satu\", \"dua\", \"tiga\")"
   ]
  },
  {
   "cell_type": "code",
   "execution_count": null,
   "metadata": {},
   "outputs": [
    {
     "name": "stdout",
     "output_type": "stream",
     "text": [
      "('satu', 'dua', 'tiga')\n",
      "satu\n",
      "dua\n",
      "tiga\n"
     ]
    }
   ],
   "source": [
    "def tampil(*a): # kombinasi ARGS + Looping\n",
    "    print(a)\n",
    "    for i in a:\n",
    "        print(i)\n",
    "\n",
    "tampil(\"satu\", \"dua\", \"tiga\")"
   ]
  },
  {
   "cell_type": "code",
   "execution_count": 13,
   "metadata": {},
   "outputs": [
    {
     "name": "stdout",
     "output_type": "stream",
     "text": [
      "{'nama': 'william', 'alamat': 'surabaya'}\n"
     ]
    }
   ],
   "source": [
    "def tampil2(**a): # KWARGS\n",
    "    print(a)\n",
    "\n",
    "tampil2(nama=\"william\", alamat=\"surabaya\")"
   ]
  },
  {
   "cell_type": "code",
   "execution_count": 14,
   "metadata": {},
   "outputs": [
    {
     "name": "stdout",
     "output_type": "stream",
     "text": [
      "{'nama': 'william', 'alamat': 'surabaya'}\n",
      "william\n",
      "surabaya\n"
     ]
    }
   ],
   "source": [
    "def tampil2(**a): # KWARGS + Looping\n",
    "    print(a)\n",
    "    for key in a.keys():\n",
    "        print(a[key])\n",
    "\n",
    "tampil2(nama=\"william\", alamat=\"surabaya\")"
   ]
  },
  {
   "cell_type": "markdown",
   "metadata": {},
   "source": [
    "NUMPY"
   ]
  },
  {
   "cell_type": "code",
   "execution_count": null,
   "metadata": {},
   "outputs": [
    {
     "name": "stdout",
     "output_type": "stream",
     "text": [
      "[1 2 3 4]\n",
      "1\n",
      "2\n"
     ]
    }
   ],
   "source": [
    "import numpy as np\n",
    "\n",
    "a = np.array([1,2,3,4]) # 1 dimensi\n",
    "print(a)\n",
    "print(a[0])\n",
    "print(a[1])"
   ]
  },
  {
   "cell_type": "code",
   "execution_count": 19,
   "metadata": {},
   "outputs": [
    {
     "name": "stdout",
     "output_type": "stream",
     "text": [
      "[[1 2 3]\n",
      " [4 5 6]\n",
      " [7 8 9]]\n",
      "[1 2 3]\n",
      "[4 5 6]\n"
     ]
    }
   ],
   "source": [
    "b = np.array([ # 2 dimensi\n",
    "    [1,2,3],\n",
    "    [4,5,6],\n",
    "    [7,8,9],\n",
    "])\n",
    "\n",
    "print(b)\n",
    "print(b[0])\n",
    "print(b[1])"
   ]
  },
  {
   "cell_type": "code",
   "execution_count": null,
   "metadata": {},
   "outputs": [
    {
     "name": "stdout",
     "output_type": "stream",
     "text": [
      "[[1 2 3]\n",
      " [4 5 6]\n",
      " [7 8 9]]\n",
      "[1 2 3]\n",
      "3\n"
     ]
    }
   ],
   "source": [
    "b = np.array([ \n",
    "    [1,2,3],\n",
    "    [4,5,6],\n",
    "    [7,8,9],\n",
    "])\n",
    "\n",
    "print(b)\n",
    "print(b[0])\n",
    "print(b[0] [2])"
   ]
  },
  {
   "cell_type": "code",
   "execution_count": 24,
   "metadata": {},
   "outputs": [
    {
     "name": "stdout",
     "output_type": "stream",
     "text": [
      "[[[ 1  2  3]\n",
      "  [ 4  5  6]]\n",
      "\n",
      " [[ 7  8  9]\n",
      "  [10 11 12]]]\n",
      "[[1 2 3]\n",
      " [4 5 6]]\n",
      "[1 2 3]\n",
      "3\n"
     ]
    }
   ],
   "source": [
    "c = np.array([\n",
    "    [\n",
    "        [1,2,3],\n",
    "        [4,5,6]\n",
    "    ],\n",
    "    [\n",
    "        [7,8,9],\n",
    "        [10,11,12]\n",
    "    ]\n",
    "])\n",
    "\n",
    "print(c)\n",
    "print(c[0])\n",
    "print(c[0][0])\n",
    "print(c[0][0][2])\n",
    "\n"
   ]
  },
  {
   "cell_type": "code",
   "execution_count": null,
   "metadata": {},
   "outputs": [
    {
     "name": "stdout",
     "output_type": "stream",
     "text": [
      "(3, 3)\n",
      "2\n",
      "9\n"
     ]
    }
   ],
   "source": [
    "b = np.array([ # 2 dimensi\n",
    "    [1,2,3],\n",
    "    [4,5,6],\n",
    "    [7,8,9],\n",
    "])\n",
    "\n",
    "print(b.shape)\n",
    "print(b.ndim)\n",
    "print(b.size)"
   ]
  },
  {
   "cell_type": "markdown",
   "metadata": {},
   "source": [
    "ASSIGNMENT"
   ]
  },
  {
   "cell_type": "code",
   "execution_count": 26,
   "metadata": {},
   "outputs": [
    {
     "name": "stdout",
     "output_type": "stream",
     "text": [
      "[[10 20 30]\n",
      " [ 5 10 20]\n",
      " [ 2  4  6]]\n"
     ]
    }
   ],
   "source": [
    "b = np.array([ # 2 dimensi\n",
    "    [10,20,30],\n",
    "    [5,10,20],\n",
    "    [2,4,6],\n",
    "])\n",
    "\n",
    "print(b)\n"
   ]
  },
  {
   "cell_type": "code",
   "execution_count": 27,
   "metadata": {},
   "outputs": [
    {
     "name": "stdout",
     "output_type": "stream",
     "text": [
      "[[[10 11 12]\n",
      "  [13 14 15]\n",
      "  [16 17 18]]\n",
      "\n",
      " [[20 21 22]\n",
      "  [23 24 25]\n",
      "  [26 27 28]]\n",
      "\n",
      " [[30 31 32]\n",
      "  [33 34 35]\n",
      "  [36 37 38]]]\n"
     ]
    }
   ],
   "source": [
    "c = np.array([\n",
    "    [\n",
    "        [10,11,12],\n",
    "        [13,14,15],\n",
    "        [16,17,18]\n",
    "    ],\n",
    "    [\n",
    "        [20,21,22],\n",
    "        [23,24,25],\n",
    "        [26,27,28]\n",
    "    ],\n",
    "    [\n",
    "        [30,31,32],\n",
    "        [33,34,35],\n",
    "        [36,37,38]\n",
    "    ]\n",
    "])\n",
    "\n",
    "print(c)\n"
   ]
  },
  {
   "cell_type": "code",
   "execution_count": 31,
   "metadata": {},
   "outputs": [
    {
     "name": "stdout",
     "output_type": "stream",
     "text": [
      "[[['MacBook' '3' '25JT']\n",
      "  ['Asus' '15' '11JT']\n",
      "  ['HP' '6' '8JT']]\n",
      "\n",
      " [['Iphone' '5' '13JT']\n",
      "  ['Oppo' '22' '5JT']\n",
      "  ['Vivo' '8' '4JT']]]\n",
      "(2, 3, 3)\n",
      "3\n"
     ]
    }
   ],
   "source": [
    "c = np.array([\n",
    "    [\n",
    "        [\"MacBook\",3,\"25JT\"],\n",
    "        [\"Asus\",15,\"11JT\"],\n",
    "        [\"HP\",6,\"8JT\"]\n",
    "    ],\n",
    "    [\n",
    "        [\"Iphone\",5,\"13JT\"],\n",
    "        [\"Oppo\",22,\"5JT\"],\n",
    "        [\"Vivo\",8,\"4JT\"]\n",
    "    ]\n",
    "])\n",
    "\n",
    "print(c)\n",
    "print(c.shape)\n",
    "print(c.ndim)"
   ]
  },
  {
   "cell_type": "code",
   "execution_count": 33,
   "metadata": {},
   "outputs": [
    {
     "name": "stdout",
     "output_type": "stream",
     "text": [
      "[['Raka' '21' 'Badung' 'Programmer']\n",
      " ['Bayu' '22' 'Denpasar' 'Web Developer']\n",
      " ['Sri' '18' 'Gianyar' 'Android Developer']\n",
      " ['Dimas' '30' 'Bangli' 'Data Analyst']]\n",
      "(4, 4)\n",
      "16\n"
     ]
    }
   ],
   "source": [
    "b = np.array([ \n",
    "    [\"Raka\",21,\"Badung\",\"Programmer\"],\n",
    "    [\"Bayu\",22,\"Denpasar\",\"Web Developer\"],\n",
    "    [\"Sri\",18,\"Gianyar\",\"Android Developer\"],\n",
    "    [\"Dimas\",30,\"Bangli\",\"Data Analyst\"]\n",
    "])\n",
    "\n",
    "print(b)\n",
    "print(b.shape)\n",
    "print(b.size)"
   ]
  },
  {
   "cell_type": "markdown",
   "metadata": {},
   "source": [
    "INDEXING & SLICING"
   ]
  },
  {
   "cell_type": "code",
   "execution_count": 42,
   "metadata": {},
   "outputs": [
    {
     "name": "stdout",
     "output_type": "stream",
     "text": [
      "[1 2 3]\n",
      "[[1 2 3]\n",
      " [4 5 6]\n",
      " [7 8 9]]\n"
     ]
    }
   ],
   "source": [
    "a = np.array([\n",
    "    [1,2,3],\n",
    "    [4,5,6],\n",
    "    [7,8,9]\n",
    "])\n",
    "\n",
    "print(a[0])\n",
    "print(a[0:])\n"
   ]
  },
  {
   "cell_type": "code",
   "execution_count": 44,
   "metadata": {},
   "outputs": [
    {
     "name": "stdout",
     "output_type": "stream",
     "text": [
      "[[1 2]\n",
      " [4 5]\n",
      " [7 8]]\n",
      "[[4 5]\n",
      " [7 8]]\n"
     ]
    }
   ],
   "source": [
    "a = np.array([\n",
    "    [1,2,3],\n",
    "    [4,5,6],\n",
    "    [7,8,9]\n",
    "])\n",
    "\n",
    "print(a[0:, 0:2])\n",
    "print(a[1:, 0:2])\n",
    "\n"
   ]
  },
  {
   "cell_type": "code",
   "execution_count": 46,
   "metadata": {},
   "outputs": [
    {
     "name": "stdout",
     "output_type": "stream",
     "text": [
      "[[20 20 20]\n",
      " [ 4  5  6]\n",
      " [ 7  8  9]]\n"
     ]
    }
   ],
   "source": [
    "a[0] = 20\n",
    "print(a[0:])"
   ]
  },
  {
   "cell_type": "code",
   "execution_count": 49,
   "metadata": {},
   "outputs": [
    {
     "name": "stdout",
     "output_type": "stream",
     "text": [
      "[[ 1 20  3]\n",
      " [ 4  5  6]\n",
      " [ 7  8  9]]\n"
     ]
    }
   ],
   "source": [
    "a = np.array([\n",
    "    [1,2,3],\n",
    "    [4,5,6],\n",
    "    [7,8,9]\n",
    "])\n",
    "\n",
    "a[0][1] = 20\n",
    "print(a[0:])"
   ]
  },
  {
   "cell_type": "code",
   "execution_count": 50,
   "metadata": {},
   "outputs": [
    {
     "name": "stdout",
     "output_type": "stream",
     "text": [
      "[ 1 20  3]\n"
     ]
    }
   ],
   "source": [
    "a = np.array([\n",
    "    [1,2,3],\n",
    "    [4,5,6],\n",
    "    [7,8,9]\n",
    "])\n",
    "\n",
    "a[0][1] = 20\n",
    "print(a[0])"
   ]
  },
  {
   "cell_type": "code",
   "execution_count": 51,
   "metadata": {},
   "outputs": [
    {
     "name": "stdout",
     "output_type": "stream",
     "text": [
      "[[ 1 20]\n",
      " [ 4  5]\n",
      " [ 7  8]]\n"
     ]
    }
   ],
   "source": [
    "a = np.array([\n",
    "    [1,2,3],\n",
    "    [4,5,6],\n",
    "    [7,8,9]\n",
    "])\n",
    "\n",
    "a[0][1] = 20\n",
    "print(a[0:, 0:2])"
   ]
  },
  {
   "cell_type": "markdown",
   "metadata": {},
   "source": [
    "ASSIGNMENT"
   ]
  },
  {
   "cell_type": "code",
   "execution_count": 53,
   "metadata": {},
   "outputs": [
    {
     "name": "stdout",
     "output_type": "stream",
     "text": [
      "['Denis' 'Scratch' '8']\n",
      "['Frank' 'Python' '18']\n",
      "['Roger' 'Unity' '15']\n"
     ]
    }
   ],
   "source": [
    "a = np.array([ \n",
    "    [\"Denis\",\"Scratch\",8],\n",
    "    [\"Frank\",\"Python\",18],\n",
    "    [\"Roger\",\"Unity\",15]\n",
    "])\n",
    "\n",
    "print(a[0])\n",
    "print(a[1])\n",
    "print(a[2]) "
   ]
  },
  {
   "cell_type": "code",
   "execution_count": 60,
   "metadata": {},
   "outputs": [
    {
     "name": "stdout",
     "output_type": "stream",
     "text": [
      "['Denis' 'Frank' 'Roger']\n",
      "['Scratch' 'Python' 'Unity']\n"
     ]
    }
   ],
   "source": [
    "a = np.array([ \n",
    "    [\"Denis\",\"Scratch\",8],\n",
    "    [\"Frank\",\"Python\",18],\n",
    "    [\"Roger\",\"Unity\",15]\n",
    "])\n",
    "\n",
    "print(a[0:, 0])\n",
    "print(a[0:, 1])"
   ]
  },
  {
   "cell_type": "code",
   "execution_count": 62,
   "metadata": {},
   "outputs": [
    {
     "name": "stdout",
     "output_type": "stream",
     "text": [
      "[['Denis' 'Roblox' '8']\n",
      " ['Frank' 'Python' '18']\n",
      " ['Roger' 'Unity' '15']]\n"
     ]
    }
   ],
   "source": [
    "a = np.array([ \n",
    "    [\"Denis\",\"Scratch\",8],\n",
    "    [\"Frank\",\"Python\",18],\n",
    "    [\"Roger\",\"Unity\",15]\n",
    "])\n",
    "\n",
    "a[0][1] = \"Roblox\"\n",
    "print(a[0:])"
   ]
  },
  {
   "cell_type": "code",
   "execution_count": 63,
   "metadata": {},
   "outputs": [
    {
     "name": "stdout",
     "output_type": "stream",
     "text": [
      "[['Java' 'Richie' '60' 'C']\n",
      " ['Python' 'Niels' '80' 'A']\n",
      " ['R' 'Brie' '75' 'B']]\n"
     ]
    }
   ],
   "source": [
    "a = np.array([ \n",
    "    [\"Java\",\"Richie\",60,\"C\"],\n",
    "    [\"Python\",\"Niels\",80,\"A\"],\n",
    "    [\"R\",\"Brie\",75,\"B\"]\n",
    "])\n",
    "\n",
    "print(a)"
   ]
  },
  {
   "cell_type": "code",
   "execution_count": 65,
   "metadata": {},
   "outputs": [
    {
     "name": "stdout",
     "output_type": "stream",
     "text": [
      "['Java' 'Python' 'R']\n",
      "['Richie' 'Niels' 'Brie']\n",
      "['60' '80' '75']\n"
     ]
    }
   ],
   "source": [
    "a = np.array([ \n",
    "    [\"Java\",\"Richie\",60,\"C\"],\n",
    "    [\"Python\",\"Niels\",80,\"A\"],\n",
    "    [\"R\",\"Brie\",75,\"B\"]\n",
    "])\n",
    "\n",
    "print(a[0:, 0])\n",
    "print(a[0:, 1])\n",
    "print(a[0:, 2])"
   ]
  },
  {
   "cell_type": "code",
   "execution_count": 66,
   "metadata": {},
   "outputs": [
    {
     "name": "stdout",
     "output_type": "stream",
     "text": [
      "['Java' 'Python' 'R']\n",
      "['Richie' 'Niels' 'Brie']\n",
      "['60' '80' '75']\n",
      "['C' 'A' 'B']\n"
     ]
    }
   ],
   "source": [
    "a = np.array([ \n",
    "    [\"Java\",\"Richie\",60,\"C\"],\n",
    "    [\"Python\",\"Niels\",80,\"A\"],\n",
    "    [\"R\",\"Brie\",75,\"B\"]\n",
    "])\n",
    "\n",
    "print(a[0:, 0])\n",
    "print(a[0:, 1])\n",
    "print(a[0:, 2])\n",
    "print(a[0:, 3])"
   ]
  },
  {
   "cell_type": "code",
   "execution_count": 69,
   "metadata": {},
   "outputs": [
    {
     "name": "stdout",
     "output_type": "stream",
     "text": [
      "[['60' 'C']\n",
      " ['80' 'A']]\n"
     ]
    }
   ],
   "source": [
    "a = np.array([ \n",
    "    [\"Java\",\"Richie\",60,\"C\"],\n",
    "    [\"Python\",\"Niels\",80,\"A\"],\n",
    "    [\"R\",\"Brie\",75,\"B\"]\n",
    "])\n",
    "\n",
    "print(a[0:2, 2:])\n"
   ]
  },
  {
   "cell_type": "code",
   "execution_count": null,
   "metadata": {},
   "outputs": [
    {
     "name": "stdout",
     "output_type": "stream",
     "text": [
      "[['Data Analyst' 'Richie' '60' 'C']\n",
      " ['Data Analyst' 'Niels' '80' 'A']\n",
      " ['Data Analyst' 'Brie' '75' 'B']]\n"
     ]
    }
   ],
   "source": [
    "a = np.array([ \n",
    "    [\"Java\",\"Richie\",60,\"C\"],\n",
    "    [\"Python\",\"Niels\",80,\"A\"],\n",
    "    [\"R\",\"Brie\",75,\"B\"]\n",
    "])\n",
    "\n",
    "a[0:, 0] = \"Data Analyst\"\n",
    "print(a)"
   ]
  },
  {
   "cell_type": "code",
   "execution_count": 71,
   "metadata": {},
   "outputs": [
    {
     "name": "stdout",
     "output_type": "stream",
     "text": [
      "[['Java' 'Richie' '60' 'C']\n",
      " ['Python' 'Niels' '80' 'A']\n",
      " ['R' 'Brie' '90' 'A+']]\n"
     ]
    }
   ],
   "source": [
    "a = np.array([ \n",
    "    [\"Java\",\"Richie\",60,\"C\"],\n",
    "    [\"Python\",\"Niels\",80,\"A\"],\n",
    "    [\"R\",\"Brie\",75,\"B\"]\n",
    "])\n",
    "\n",
    "a[2][2] = \"90\"\n",
    "a[2][3] = \"A+\"\n",
    "print(a[0:])"
   ]
  }
 ],
 "metadata": {
  "kernelspec": {
   "display_name": "Python 3",
   "language": "python",
   "name": "python3"
  },
  "language_info": {
   "codemirror_mode": {
    "name": "ipython",
    "version": 3
   },
   "file_extension": ".py",
   "mimetype": "text/x-python",
   "name": "python",
   "nbconvert_exporter": "python",
   "pygments_lexer": "ipython3",
   "version": "3.13.0"
  }
 },
 "nbformat": 4,
 "nbformat_minor": 2
}
