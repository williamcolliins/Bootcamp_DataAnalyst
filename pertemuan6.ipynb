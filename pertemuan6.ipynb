{
 "cells": [
  {
   "cell_type": "markdown",
   "metadata": {},
   "source": [
    "COPY"
   ]
  },
  {
   "cell_type": "code",
   "execution_count": null,
   "metadata": {},
   "outputs": [
    {
     "name": "stdout",
     "output_type": "stream",
     "text": [
      "{'nama': 'william', 'alamat': 'surabaya'}\n"
     ]
    }
   ],
   "source": [
    "data = {\n",
    "    \"nama\" : \"william\",\n",
    "    \"alamat\" : \"surabaya\"\n",
    "}\n",
    "\n",
    "data = data.copy()\n",
    "print(data)"
   ]
  },
  {
   "cell_type": "markdown",
   "metadata": {},
   "source": [
    "CLEAR"
   ]
  },
  {
   "cell_type": "code",
   "execution_count": 5,
   "metadata": {},
   "outputs": [
    {
     "name": "stdout",
     "output_type": "stream",
     "text": [
      "{}\n"
     ]
    }
   ],
   "source": [
    "data = {\n",
    "    \"nama\" : \"william\",\n",
    "    \"alamat\" : \"surabaya\"\n",
    "}\n",
    "\n",
    "data.clear()\n",
    "print(data)"
   ]
  },
  {
   "cell_type": "markdown",
   "metadata": {},
   "source": [
    "FROMKEY"
   ]
  },
  {
   "cell_type": "code",
   "execution_count": 7,
   "metadata": {},
   "outputs": [
    {
     "name": "stdout",
     "output_type": "stream",
     "text": [
      "{'ayam': 'Hewan', 'kambing': 'Hewan', 'sapi': 'Hewan'}\n"
     ]
    }
   ],
   "source": [
    "key = {\"sapi\", \"ayam\", \"kambing\"}\n",
    "hewan = dict.fromkeys(key, \"Hewan\")\n",
    "print(hewan)"
   ]
  },
  {
   "cell_type": "markdown",
   "metadata": {},
   "source": [
    "LEN"
   ]
  },
  {
   "cell_type": "code",
   "execution_count": 8,
   "metadata": {},
   "outputs": [
    {
     "name": "stdout",
     "output_type": "stream",
     "text": [
      "2\n"
     ]
    }
   ],
   "source": [
    "data = {\n",
    "    \"nama\" : \"william\",\n",
    "    \"alamat\" : \"surabaya\"\n",
    "}\n",
    "\n",
    "print(len(data))"
   ]
  },
  {
   "cell_type": "markdown",
   "metadata": {},
   "source": [
    "GET"
   ]
  },
  {
   "cell_type": "code",
   "execution_count": 9,
   "metadata": {},
   "outputs": [
    {
     "name": "stdout",
     "output_type": "stream",
     "text": [
      "william\n"
     ]
    }
   ],
   "source": [
    "data = {\n",
    "    \"nama\" : \"william\",\n",
    "    \"alamat\" : \"surabaya\"\n",
    "}\n",
    "\n",
    "nama = data.get(\"nama\")\n",
    "print(nama)"
   ]
  },
  {
   "cell_type": "markdown",
   "metadata": {},
   "source": [
    "ITEMS, KEYS, VALUES"
   ]
  },
  {
   "cell_type": "code",
   "execution_count": 12,
   "metadata": {},
   "outputs": [
    {
     "name": "stdout",
     "output_type": "stream",
     "text": [
      "dict_values(['william', 'surabaya'])\n",
      "dict_keys(['nama', 'alamat'])\n",
      "dict_items([('nama', 'william'), ('alamat', 'surabaya')])\n"
     ]
    }
   ],
   "source": [
    "data = {\n",
    "    \"nama\" : \"william\",\n",
    "    \"alamat\" : \"surabaya\"\n",
    "}\n",
    "\n",
    "print(data.values())\n",
    "print(data.keys())\n",
    "print(data.items())"
   ]
  },
  {
   "cell_type": "code",
   "execution_count": 15,
   "metadata": {},
   "outputs": [
    {
     "name": "stdout",
     "output_type": "stream",
     "text": [
      "william\n",
      "surabaya\n"
     ]
    }
   ],
   "source": [
    "for i in data.values():\n",
    "    print(i)"
   ]
  },
  {
   "cell_type": "code",
   "execution_count": 16,
   "metadata": {},
   "outputs": [
    {
     "name": "stdout",
     "output_type": "stream",
     "text": [
      "key = nama, value = william\n",
      "key = alamat, value = surabaya\n"
     ]
    }
   ],
   "source": [
    "for i,x in data.items():\n",
    "    print(f\"key = {i}, value = {x}\")"
   ]
  },
  {
   "cell_type": "code",
   "execution_count": 19,
   "metadata": {},
   "outputs": [
    {
     "name": "stdout",
     "output_type": "stream",
     "text": [
      "key = nama, value = william\n",
      "key = alamat, value = surabaya\n"
     ]
    }
   ],
   "source": [
    "data = {\n",
    "    \"nama\" : \"william\",\n",
    "    \"alamat\" : \"surabaya\"\n",
    "}\n",
    "\n",
    "for i,x in data.items():\n",
    "    print(f\"key = {i}, value = {x}\")"
   ]
  },
  {
   "cell_type": "markdown",
   "metadata": {},
   "source": [
    "ASSIGNMENT"
   ]
  },
  {
   "cell_type": "code",
   "execution_count": 23,
   "metadata": {},
   "outputs": [
    {
     "name": "stdout",
     "output_type": "stream",
     "text": [
      "{'1': 'Ayam', '2': 'Sapi', '4': 'Kambing'}\n"
     ]
    }
   ],
   "source": [
    "data = {\n",
    "    \"1\" : \"Ayam\",\n",
    "    \"2\" : \"Sapi\",\n",
    "    \"3\" : \"Mawar\",\n",
    "    \"4\" : \"Kambing\",\n",
    "    \"5\" : \"Lily\"\n",
    "}\n",
    "\n",
    "data2 = data.copy()\n",
    "\n",
    "for i,x in data2.items():\n",
    "    if x == \"Mawar\" or x == \"Lily\":\n",
    "        del data[i]\n",
    "print(data)\n"
   ]
  },
  {
   "cell_type": "code",
   "execution_count": 24,
   "metadata": {},
   "outputs": [
    {
     "name": "stdout",
     "output_type": "stream",
     "text": [
      "dict_keys(['1', '2', '3', '4', '5'])\n",
      "{'1': 'hewan', '2': 'Sapi', '3': 'hewan', '4': 'Kambing', '5': 'hewan'}\n"
     ]
    }
   ],
   "source": [
    "data = {\n",
    "    \"1\" : \"Ayam\",\n",
    "    \"2\" : \"Sapi\",\n",
    "    \"3\" : \"Mawar\",\n",
    "    \"4\" : \"Kambing\",\n",
    "    \"5\" : \"Lily\"\n",
    "}\n",
    "\n",
    "print(data.keys())\n",
    "\n",
    "for i in data.keys():\n",
    "    angka = int(i)\n",
    "    if angka % 2 != 0:\n",
    "        data[i] = \"hewan\"\n",
    "\n",
    "print(data)"
   ]
  },
  {
   "cell_type": "markdown",
   "metadata": {},
   "source": [
    "FUNCTION"
   ]
  },
  {
   "cell_type": "code",
   "execution_count": 26,
   "metadata": {},
   "outputs": [
    {
     "name": "stdout",
     "output_type": "stream",
     "text": [
      "50\n",
      "50\n"
     ]
    }
   ],
   "source": [
    "# FUNCTION VOID\n",
    "\n",
    "def tambah():\n",
    "    a = 20\n",
    "    b = 30\n",
    "    print(a + b)\n",
    "\n",
    "tambah() # bisa dikeluarkan berkali-kali\n",
    "tambah()"
   ]
  },
  {
   "cell_type": "code",
   "execution_count": 29,
   "metadata": {},
   "outputs": [
    {
     "name": "stdout",
     "output_type": "stream",
     "text": [
      "50\n",
      "25\n"
     ]
    }
   ],
   "source": [
    "# FUNCTION PARAMETER\n",
    "\n",
    "def tambah(a, b):\n",
    "    hasil = a + b\n",
    "    print(hasil)\n",
    "\n",
    "tambah(20,30)\n",
    "tambah(10,15)\n"
   ]
  },
  {
   "cell_type": "code",
   "execution_count": 32,
   "metadata": {},
   "outputs": [
    {
     "name": "stdout",
     "output_type": "stream",
     "text": [
      "-50\n"
     ]
    }
   ],
   "source": [
    "# FUNCTION RETURN\n",
    "\n",
    "def tambah(a,b):\n",
    "    hasil = a + b\n",
    "    return hasil\n",
    "\n",
    "total = tambah(20,30) - 100\n",
    "print(total)"
   ]
  },
  {
   "cell_type": "code",
   "execution_count": 33,
   "metadata": {},
   "outputs": [
    {
     "name": "stdout",
     "output_type": "stream",
     "text": [
      "6000\n"
     ]
    }
   ],
   "source": [
    "def kali(a,b):\n",
    "    return a * b\n",
    "\n",
    "def luas_balok(a, b, c):\n",
    "    hasil = kali(a,b) * c\n",
    "    print(hasil)\n",
    "\n",
    "luas_balok(10,20,30)"
   ]
  },
  {
   "cell_type": "code",
   "execution_count": 1,
   "metadata": {},
   "outputs": [
    {
     "name": "stdout",
     "output_type": "stream",
     "text": [
      "300\n"
     ]
    }
   ],
   "source": [
    "nilai = 100 # global\n",
    "\n",
    "def tambah():\n",
    "    global nilai\n",
    "    nilai += 200\n",
    "    print(nilai)\n",
    "\n",
    "tambah()"
   ]
  },
  {
   "cell_type": "code",
   "execution_count": 2,
   "metadata": {},
   "outputs": [
    {
     "name": "stdout",
     "output_type": "stream",
     "text": [
      "100\n",
      "200\n"
     ]
    }
   ],
   "source": [
    "nilai = 100\n",
    "\n",
    "def ganti():\n",
    "    global nilai\n",
    "    nilai = 200\n",
    "\n",
    "print(nilai)\n",
    "ganti()\n",
    "print(nilai)"
   ]
  },
  {
   "cell_type": "markdown",
   "metadata": {},
   "source": [
    "ISINSTANCE"
   ]
  },
  {
   "cell_type": "code",
   "execution_count": 34,
   "metadata": {},
   "outputs": [
    {
     "name": "stdout",
     "output_type": "stream",
     "text": [
      "False\n",
      "True\n"
     ]
    }
   ],
   "source": [
    "x = \"hello\"\n",
    "\n",
    "print(isinstance(x, int))\n",
    "print(isinstance(x, str))"
   ]
  },
  {
   "cell_type": "code",
   "execution_count": 35,
   "metadata": {},
   "outputs": [
    {
     "name": "stdout",
     "output_type": "stream",
     "text": [
      "10 adalah angka\n",
      "hello bukan angka\n",
      "3.14 adalah angka\n"
     ]
    }
   ],
   "source": [
    "data = [10, \"hello\", 3.14]\n",
    "\n",
    "for i in data:\n",
    "    if isinstance(i, (int,float)):\n",
    "        print(f\"{i} adalah angka\")\n",
    "    else:\n",
    "        print(f\"{i} bukan angka\")"
   ]
  },
  {
   "cell_type": "markdown",
   "metadata": {},
   "source": [
    "MAP & FUNCTION"
   ]
  },
  {
   "cell_type": "code",
   "execution_count": 36,
   "metadata": {},
   "outputs": [
    {
     "name": "stdout",
     "output_type": "stream",
     "text": [
      "[2, 4, 6, 8, 10]\n"
     ]
    }
   ],
   "source": [
    "def kali(x):\n",
    "    return x * 2\n",
    "\n",
    "hasil = list(map(kali, [1,2,3,4,5]))\n",
    "print(hasil)"
   ]
  },
  {
   "cell_type": "markdown",
   "metadata": {},
   "source": [
    "TRY EXCEPT"
   ]
  },
  {
   "cell_type": "code",
   "execution_count": 38,
   "metadata": {},
   "outputs": [
    {
     "ename": "ValueError",
     "evalue": "invalid literal for int() with base 10: 'william'",
     "output_type": "error",
     "traceback": [
      "\u001b[1;31m---------------------------------------------------------------------------\u001b[0m",
      "\u001b[1;31mValueError\u001b[0m                                Traceback (most recent call last)",
      "Cell \u001b[1;32mIn[38], line 1\u001b[0m\n\u001b[1;32m----> 1\u001b[0m angka1 \u001b[38;5;241m=\u001b[39m \u001b[38;5;28;43mint\u001b[39;49m\u001b[43m(\u001b[49m\u001b[38;5;28;43minput\u001b[39;49m\u001b[43m(\u001b[49m\u001b[38;5;124;43m\"\u001b[39;49m\u001b[38;5;124;43mangka : \u001b[39;49m\u001b[38;5;124;43m\"\u001b[39;49m\u001b[43m)\u001b[49m\u001b[43m)\u001b[49m\n\u001b[0;32m      2\u001b[0m \u001b[38;5;28mprint\u001b[39m(angka1) \u001b[38;5;66;03m# sengaja dibuat salah\u001b[39;00m\n",
      "\u001b[1;31mValueError\u001b[0m: invalid literal for int() with base 10: 'william'"
     ]
    }
   ],
   "source": [
    "angka1 = int(input(\"angka : \"))\n",
    "print(angka1) # sengaja dibuat salah"
   ]
  },
  {
   "cell_type": "code",
   "execution_count": 40,
   "metadata": {},
   "outputs": [
    {
     "name": "stdout",
     "output_type": "stream",
     "text": [
      "10\n"
     ]
    }
   ],
   "source": [
    "try:\n",
    "    angka1 = int(input(\"angka : \"))\n",
    "    print(angka1)\n",
    "except ValueError:\n",
    "    print(\"input berupa angka !!\")"
   ]
  },
  {
   "cell_type": "code",
   "execution_count": 41,
   "metadata": {},
   "outputs": [
    {
     "name": "stdout",
     "output_type": "stream",
     "text": [
      "input berupa angka !!\n"
     ]
    }
   ],
   "source": [
    "try:\n",
    "    angka1 = int(input(\"angka : \"))\n",
    "    print(angka1)\n",
    "except ValueError:\n",
    "    print(\"input berupa angka !!\")"
   ]
  },
  {
   "cell_type": "code",
   "execution_count": 2,
   "metadata": {},
   "outputs": [
    {
     "name": "stdout",
     "output_type": "stream",
     "text": [
      "input berupa angka !!\n",
      "10\n"
     ]
    }
   ],
   "source": [
    "while True :\n",
    "    try:\n",
    "        angka1 = int(input(\"angka : \"))\n",
    "        print(angka1)\n",
    "        break\n",
    "    except ValueError:\n",
    "        print(\"input berupa angka !!\")"
   ]
  },
  {
   "cell_type": "markdown",
   "metadata": {},
   "source": [
    "ASSIGNMENT\n"
   ]
  },
  {
   "cell_type": "code",
   "execution_count": 2,
   "metadata": {},
   "outputs": [
    {
     "name": "stdout",
     "output_type": "stream",
     "text": [
      "silahkan memilih menu : \n",
      "1, penjumlahan\n",
      "2, pengurangan\n",
      "3, perkalian\n",
      "4, pembagian\n",
      "23\n"
     ]
    }
   ],
   "source": [
    "def tambah(a,b):\n",
    "    hasil = a + b\n",
    "    return hasil\n",
    "\n",
    "def kurang(a,b):\n",
    "    hasil = a - b   \n",
    "    return hasil\n",
    "\n",
    "def kali(a,b):\n",
    "    hasil = a * b\n",
    "    return hasil\n",
    "\n",
    "def bagi(a,b):\n",
    "    hasil = a / b\n",
    "    return hasil\n",
    "\n",
    "while True:\n",
    "    print(\"silahkan memilih menu : \")\n",
    "    print(\"1, penjumlahan\")\n",
    "    print(\"2, pengurangan\")\n",
    "    print(\"3, perkalian\")\n",
    "    print(\"4, pembagian\")\n",
    "\n",
    "    pilih = int(input(\"masukkan pilihan : \"))\n",
    "\n",
    "    if pilih == 1:\n",
    "        angka1 = int(input(\"masukkan angka 1 :\"))\n",
    "        angka2 = int(input(\"masukkan angka 2\"))\n",
    "        hasil = tambah(angka1, angka2)\n",
    "        print(hasil)\n",
    "    elif pilih == 2:\n",
    "        angka1 = int(input(\"masukkan angka 1 :\"))\n",
    "        angka2 = int(input(\"masukkan angka 2\"))\n",
    "        hasil = kurang(angka1, angka2)\n",
    "        print(hasil)\n",
    "    elif pilih == 3:\n",
    "        angka1 = int(input(\"masukkan angka 1 :\"))\n",
    "        angka2 = int(input(\"masukkan angka 2\"))\n",
    "        hasil = kali(angka1, angka2)\n",
    "        print(hasil)\n",
    "    elif pilih == 4:\n",
    "        angka1 = int(input(\"masukkan angka 1 :\"))\n",
    "        angka2 = int(input(\"masukkan angka 2\"))\n",
    "        hasil = bagi(angka1, angka2)\n",
    "        print(hasil)\n",
    "\n",
    "    kondisi = input(\"masih ingin memilih ? \")\n",
    "\n",
    "    if kondisi == \"tidak\":\n",
    "        break\n",
    "        "
   ]
  }
 ],
 "metadata": {
  "kernelspec": {
   "display_name": "Python 3",
   "language": "python",
   "name": "python3"
  },
  "language_info": {
   "codemirror_mode": {
    "name": "ipython",
    "version": 3
   },
   "file_extension": ".py",
   "mimetype": "text/x-python",
   "name": "python",
   "nbconvert_exporter": "python",
   "pygments_lexer": "ipython3",
   "version": "3.13.0"
  }
 },
 "nbformat": 4,
 "nbformat_minor": 2
}
