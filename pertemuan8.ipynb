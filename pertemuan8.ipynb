{
 "cells": [
  {
   "cell_type": "markdown",
   "metadata": {},
   "source": [
    "FUNCTION LAMBDA"
   ]
  },
  {
   "cell_type": "code",
   "execution_count": 1,
   "metadata": {},
   "outputs": [
    {
     "name": "stdout",
     "output_type": "stream",
     "text": [
      "william\n"
     ]
    }
   ],
   "source": [
    "def tampil(a):\n",
    "    print(a)\n",
    "\n",
    "tampil(\"william\")"
   ]
  },
  {
   "cell_type": "code",
   "execution_count": 3,
   "metadata": {},
   "outputs": [
    {
     "name": "stdout",
     "output_type": "stream",
     "text": [
      "30\n"
     ]
    }
   ],
   "source": [
    "tambah = lambda a,b: a + b\n",
    "\n",
    "print(tambah(10,20))"
   ]
  },
  {
   "cell_type": "markdown",
   "metadata": {},
   "source": [
    "ASSIGNMENT"
   ]
  },
  {
   "cell_type": "code",
   "execution_count": 11,
   "metadata": {},
   "outputs": [
    {
     "name": "stdout",
     "output_type": "stream",
     "text": [
      "55\n",
      "5.5\n"
     ]
    }
   ],
   "source": [
    "def tambah(*a):\n",
    "    hasil = 0\n",
    "    for i in a:\n",
    "        hasil += i\n",
    "\n",
    "    return hasil\n",
    "\n",
    "total = tambah(1,2,3,4,5,6,7,8,9,10)\n",
    "print(total)\n",
    "\n",
    "rata = (lambda a: a / 10)(total)\n",
    "\n",
    "print(rata)"
   ]
  },
  {
   "cell_type": "markdown",
   "metadata": {},
   "source": [
    "PANDAS"
   ]
  },
  {
   "cell_type": "markdown",
   "metadata": {},
   "source": [
    "PANDAS SERIES = DATA HANYA BERUPA ROW (BARIS)\n",
    "\n",
    "PANDAS DATAFRAME = DATA BERUPA BARIS DAN KOLOM\n"
   ]
  },
  {
   "cell_type": "code",
   "execution_count": 15,
   "metadata": {},
   "outputs": [
    {
     "name": "stdout",
     "output_type": "stream",
     "text": [
      "0    1\n",
      "1    2\n",
      "2    3\n",
      "3    4\n",
      "dtype: int64\n",
      "   0\n",
      "0  1\n",
      "1  2\n",
      "2  3\n",
      "3  4\n"
     ]
    }
   ],
   "source": [
    "import pandas as pd\n",
    "import numpy as np\n",
    "\n",
    "data = np.array([1,2,3,4])\n",
    "\n",
    "series = pd.Series(data)\n",
    "dataframe = pd.DataFrame(data)\n",
    "\n",
    "print(series)\n",
    "print(dataframe)"
   ]
  },
  {
   "cell_type": "markdown",
   "metadata": {},
   "source": [
    "ASSIGNMENT"
   ]
  },
  {
   "cell_type": "code",
   "execution_count": 16,
   "metadata": {},
   "outputs": [
    {
     "name": "stdout",
     "output_type": "stream",
     "text": [
      "0     Apple\n",
      "1    Orange\n",
      "2    Banana\n",
      "3     Grape\n",
      "4     Mango\n",
      "dtype: object\n",
      "        0\n",
      "0   Apple\n",
      "1  Orange\n",
      "2  Banana\n",
      "3   Grape\n",
      "4   Mango\n"
     ]
    }
   ],
   "source": [
    "data = (\"Apple\",\"Orange\",\"Banana\",\"Grape\",\"Mango\")\n",
    "\n",
    "series = pd.Series(data)\n",
    "dataframe = pd.DataFrame(data)\n",
    "\n",
    "print(series)\n",
    "print(dataframe)"
   ]
  },
  {
   "cell_type": "markdown",
   "metadata": {},
   "source": [
    "PANDAS SERIES"
   ]
  },
  {
   "cell_type": "code",
   "execution_count": 17,
   "metadata": {},
   "outputs": [
    {
     "data": {
      "text/plain": [
       "satu    1\n",
       "dua     2\n",
       "tiga    3\n",
       "dtype: int64"
      ]
     },
     "execution_count": 17,
     "metadata": {},
     "output_type": "execute_result"
    }
   ],
   "source": [
    "data = [1,2,3]\n",
    "\n",
    "series = pd.Series(data, index = [\"satu\", \"dua\", \"tiga\"])\n",
    "series"
   ]
  },
  {
   "cell_type": "code",
   "execution_count": 18,
   "metadata": {},
   "outputs": [
    {
     "data": {
      "text/plain": [
       "satu    1\n",
       "dua     2\n",
       "tiga    3\n",
       "dtype: int64"
      ]
     },
     "execution_count": 18,
     "metadata": {},
     "output_type": "execute_result"
    }
   ],
   "source": [
    "data = {\n",
    "    \"satu\" : 1,\n",
    "    \"dua\" : 2,\n",
    "    \"tiga\" : 3\n",
    "}\n",
    "series = pd.Series(data)\n",
    "series"
   ]
  },
  {
   "cell_type": "code",
   "execution_count": 19,
   "metadata": {},
   "outputs": [
    {
     "name": "stdout",
     "output_type": "stream",
     "text": [
      "satu    1\n",
      "dua     2\n",
      "tiga    3\n",
      "dtype: int64\n",
      "1\n"
     ]
    }
   ],
   "source": [
    "data = [1,2,3]\n",
    "\n",
    "series = pd.Series(data, index = [\"satu\", \"dua\", \"tiga\"])\n",
    "\n",
    "print(series)\n",
    "print(series[\"satu\"])"
   ]
  },
  {
   "cell_type": "code",
   "execution_count": 20,
   "metadata": {},
   "outputs": [
    {
     "name": "stdout",
     "output_type": "stream",
     "text": [
      "0    1\n",
      "1    2\n",
      "2    3\n",
      "3    4\n",
      "dtype: int64\n"
     ]
    }
   ],
   "source": [
    "data = [1,2,3,4,5]\n",
    "\n",
    "series = pd.Series(data)\n",
    "\n",
    "print(series[0:4])"
   ]
  },
  {
   "cell_type": "markdown",
   "metadata": {},
   "source": [
    "LOC & ILOC"
   ]
  },
  {
   "cell_type": "code",
   "execution_count": null,
   "metadata": {},
   "outputs": [
    {
     "name": "stdout",
     "output_type": "stream",
     "text": [
      "satu     1\n",
      "dua      2\n",
      "tiga     3\n",
      "empat    4\n",
      "dtype: int64\n",
      "satu     1\n",
      "dua      2\n",
      "tiga     3\n",
      "empat    4\n",
      "dtype: int64\n"
     ]
    }
   ],
   "source": [
    "data = [1,2,3,4,5]\n",
    "\n",
    "series = pd.Series(data, index = [\"satu\", \"dua\", \"tiga\", \"empat\", \"lima\"])\n",
    "\n",
    "# LOC (tanpa menggunakan batas)\n",
    "\n",
    "print(series.loc[\"satu\" : \"empat\"])\n",
    "\n",
    "# ILOC (menggunakan batas)\n",
    "\n",
    "print(series.iloc[0 : 4])"
   ]
  },
  {
   "cell_type": "code",
   "execution_count": 25,
   "metadata": {},
   "outputs": [
    {
     "name": "stdout",
     "output_type": "stream",
     "text": [
      "0    1\n",
      "1    2\n",
      "2    3\n",
      "3    4\n",
      "4    5\n",
      "dtype: int64\n",
      "satu     1\n",
      "dua      2\n",
      "tiga     3\n",
      "empat    4\n",
      "dtype: int64\n",
      "satu     1\n",
      "dua      2\n",
      "tiga     3\n",
      "empat    4\n",
      "dtype: int64\n"
     ]
    }
   ],
   "source": [
    "data = [1,2,3,4,5]\n",
    "\n",
    "series1 = pd.Series(data)\n",
    "series2 = pd.Series(data, index = [\"satu\", \"dua\", \"tiga\", \"empat\", \"lima\"])\n",
    "\n",
    "# LOC\n",
    "\n",
    "print(series1.loc[0 : 4])\n",
    "print(series2.loc[\"satu\" : \"empat\"])\n",
    "\n",
    "# ILOC\n",
    "\n",
    "print(series2.iloc[0 : 4])"
   ]
  },
  {
   "cell_type": "markdown",
   "metadata": {},
   "source": [
    "ASSIGNMENT"
   ]
  },
  {
   "cell_type": "code",
   "execution_count": 33,
   "metadata": {},
   "outputs": [
    {
     "name": "stdout",
     "output_type": "stream",
     "text": [
      "1       Januari\n",
      "2      Februari\n",
      "3         Maret\n",
      "4         April\n",
      "5           Mei\n",
      "6          Juni\n",
      "7          Juli\n",
      "8       Agustus\n",
      "9     September\n",
      "10      Oktober\n",
      "11     November\n",
      "12     Desember\n",
      "dtype: object\n",
      "1       Januari\n",
      "2      Februari\n",
      "3         Maret\n",
      "4         April\n",
      "5           Mei\n",
      "6          Juni\n",
      "7          Juli\n",
      "8       Agustus\n",
      "9     September\n",
      "10      Oktober\n",
      "11     November\n",
      "12     Desember\n",
      "dtype: object\n",
      "['Januari' 'Februari' 'Maret' 'April' 'Mei' 'Juni' 'Juli' 'Agustus'\n",
      " 'September' 'Oktober' 'November' 'Desember']\n"
     ]
    }
   ],
   "source": [
    "data = [\"Januari\", \"Februari\", \"Maret\", \"April\", \"Mei\", \"Juni\", \"Juli\", \"Agustus\", \"September\", \"Oktober\", \"November\", \"Desember\"]\n",
    "\n",
    "series = pd.Series(data, index = [1,2,3,4,5,6,7,8,9,10,11,12])\n",
    "\n",
    "print(series.loc[1 : 12])\n",
    "print(series.iloc[0 : 12])\n",
    "print(series.values)"
   ]
  },
  {
   "cell_type": "markdown",
   "metadata": {},
   "source": [
    "CONDITIONAL SELECTION"
   ]
  },
  {
   "cell_type": "code",
   "execution_count": 34,
   "metadata": {},
   "outputs": [
    {
     "data": {
      "text/plain": [
       "0    2000\n",
       "1    3000\n",
       "2    1000\n",
       "3    5000\n",
       "4    3500\n",
       "dtype: int64"
      ]
     },
     "execution_count": 34,
     "metadata": {},
     "output_type": "execute_result"
    }
   ],
   "source": [
    "data = (2000,3000,1000,5000,3500)\n",
    "\n",
    "series = pd.Series(data)\n",
    "series"
   ]
  },
  {
   "cell_type": "code",
   "execution_count": 35,
   "metadata": {},
   "outputs": [
    {
     "data": {
      "text/plain": [
       "0    False\n",
       "1     True\n",
       "2    False\n",
       "3     True\n",
       "4     True\n",
       "dtype: bool"
      ]
     },
     "execution_count": 35,
     "metadata": {},
     "output_type": "execute_result"
    }
   ],
   "source": [
    "series > 2000"
   ]
  },
  {
   "cell_type": "code",
   "execution_count": null,
   "metadata": {},
   "outputs": [
    {
     "data": {
      "text/plain": [
       "1    3000\n",
       "3    5000\n",
       "4    3500\n",
       "dtype: int64"
      ]
     },
     "execution_count": 37,
     "metadata": {},
     "output_type": "execute_result"
    }
   ],
   "source": [
    "series[series > 2000]"
   ]
  },
  {
   "cell_type": "markdown",
   "metadata": {},
   "source": [
    "SERIES OPERATOR PERBANDINGAN & LOGIKA"
   ]
  },
  {
   "cell_type": "code",
   "execution_count": 38,
   "metadata": {},
   "outputs": [
    {
     "data": {
      "text/plain": [
       "1    3000\n",
       "dtype: int64"
      ]
     },
     "execution_count": 38,
     "metadata": {},
     "output_type": "execute_result"
    }
   ],
   "source": [
    "series[(series > 2000) & (series < 3500)]"
   ]
  },
  {
   "cell_type": "markdown",
   "metadata": {},
   "source": [
    "SERIES OPERATOR ARITMATIKA"
   ]
  },
  {
   "cell_type": "code",
   "execution_count": 46,
   "metadata": {},
   "outputs": [
    {
     "data": {
      "text/plain": [
       "0    2000\n",
       "1    3000\n",
       "2    1000\n",
       "3    5000\n",
       "4    3500\n",
       "dtype: int64"
      ]
     },
     "execution_count": 46,
     "metadata": {},
     "output_type": "execute_result"
    }
   ],
   "source": [
    "data = (2000,3000,1000,5000,3500)\n",
    "\n",
    "series = pd.Series(data)\n",
    "series"
   ]
  },
  {
   "cell_type": "code",
   "execution_count": null,
   "metadata": {},
   "outputs": [
    {
     "data": {
      "text/plain": [
       "0    3000\n",
       "1    4000\n",
       "2    2000\n",
       "3    6000\n",
       "4    4500\n",
       "dtype: int64"
      ]
     },
     "execution_count": 48,
     "metadata": {},
     "output_type": "execute_result"
    }
   ],
   "source": [
    "series + 1000 # Hanya Tampilan Saja Tidak Mengubah Data Asli"
   ]
  },
  {
   "cell_type": "code",
   "execution_count": null,
   "metadata": {},
   "outputs": [
    {
     "data": {
      "text/plain": [
       "0    6000\n",
       "1    7000\n",
       "2    5000\n",
       "3    9000\n",
       "4    7500\n",
       "dtype: int64"
      ]
     },
     "execution_count": 52,
     "metadata": {},
     "output_type": "execute_result"
    }
   ],
   "source": [
    "series = series + 1000 #Mengubah Data Asli"
   ]
  },
  {
   "cell_type": "code",
   "execution_count": 53,
   "metadata": {},
   "outputs": [
    {
     "name": "stdout",
     "output_type": "stream",
     "text": [
      "0    3000\n",
      "1    5000\n",
      "2    4000\n",
      "3    9000\n",
      "4    8500\n",
      "dtype: int64\n"
     ]
    }
   ],
   "source": [
    "data1 = (2000,3000,1000,5000,3500)\n",
    "data2 = (1000,2000,3000,4000,5000)\n",
    "\n",
    "series1 = pd.Series(data1)\n",
    "series2 = pd.Series(data2)\n",
    "\n",
    "hasil = series1 + series2\n",
    "print(hasil)"
   ]
  },
  {
   "cell_type": "code",
   "execution_count": 55,
   "metadata": {},
   "outputs": [
    {
     "name": "stdout",
     "output_type": "stream",
     "text": [
      "0    3000\n",
      "1    5000\n",
      "2    4000\n",
      "3    9000\n",
      "4    8500\n",
      "dtype: int64\n"
     ]
    }
   ],
   "source": [
    "total = series1.add(series2)\n",
    "print(total)"
   ]
  },
  {
   "cell_type": "code",
   "execution_count": 56,
   "metadata": {},
   "outputs": [
    {
     "data": {
      "text/plain": [
       "dtype('int64')"
      ]
     },
     "execution_count": 56,
     "metadata": {},
     "output_type": "execute_result"
    }
   ],
   "source": [
    "data1 = (2000,3000,1000,5000,3500)\n",
    "\n",
    "series1 = pd.Series(data1)\n",
    "series1.dtypes"
   ]
  },
  {
   "cell_type": "code",
   "execution_count": 59,
   "metadata": {},
   "outputs": [
    {
     "name": "stdout",
     "output_type": "stream",
     "text": [
      "0    2000\n",
      "1    3000\n",
      "2    1000\n",
      "3    5000\n",
      "4    3500\n",
      "dtype: int64\n",
      "0    2000.0\n",
      "1    3000.0\n",
      "2    1000.0\n",
      "3    5000.0\n",
      "4    3500.0\n",
      "dtype: float64\n"
     ]
    }
   ],
   "source": [
    "data1 = (2000,3000,1000,5000,3500)\n",
    "\n",
    "series1 = pd.Series(data1)\n",
    "\n",
    "print(series1)\n",
    "\n",
    "series1_float = series1.astype(float)\n",
    "\n",
    "print(series1_float)"
   ]
  },
  {
   "cell_type": "code",
   "execution_count": 61,
   "metadata": {},
   "outputs": [
    {
     "name": "stdout",
     "output_type": "stream",
     "text": [
      "0    2000\n",
      "1    3000\n",
      "2    1000\n",
      "3    5000\n",
      "4    3500\n",
      "dtype: int64\n",
      "0    10000\n",
      "1     3000\n",
      "2     1000\n",
      "3     5000\n",
      "4     3500\n",
      "dtype: int64\n"
     ]
    }
   ],
   "source": [
    "data1 = (2000,3000,1000,5000,3500)\n",
    "\n",
    "series1 = pd.Series(data1)\n",
    "\n",
    "print(series1)\n",
    "\n",
    "series1[0] = 10000\n",
    "\n",
    "print(series1)"
   ]
  },
  {
   "cell_type": "code",
   "execution_count": 63,
   "metadata": {},
   "outputs": [
    {
     "name": "stdout",
     "output_type": "stream",
     "text": [
      "14500\n",
      "2900.0\n"
     ]
    }
   ],
   "source": [
    "data1 = (2000,3000,1000,5000,3500)\n",
    "\n",
    "series1 = pd.Series(data1)\n",
    "\n",
    "sum = series1.sum()\n",
    "rata = series1.mean()\n",
    "\n",
    "print(sum)\n",
    "print(rata)"
   ]
  },
  {
   "cell_type": "markdown",
   "metadata": {},
   "source": [
    "ASSIGNMENT"
   ]
  },
  {
   "cell_type": "code",
   "execution_count": 71,
   "metadata": {},
   "outputs": [
    {
     "data": {
      "text/plain": [
       "Januari      408\n",
       "Februari     943\n",
       "Maret        902\n",
       "April        117\n",
       "Mei          389\n",
       "Juni         435\n",
       "Juli         793\n",
       "Agustus      356\n",
       "September    651\n",
       "Oktober      993\n",
       "November     786\n",
       "Desember     157\n",
       "dtype: int64"
      ]
     },
     "execution_count": 71,
     "metadata": {},
     "output_type": "execute_result"
    }
   ],
   "source": [
    "data = [408,943,902,117,389,435,793,356,651,993,786,157]\n",
    "\n",
    "series = pd.Series(data, index = [\"Januari\", \"Februari\", \"Maret\", \"April\", \"Mei\", \"Juni\", \"Juli\", \"Agustus\", \"September\", \"Oktober\", \"November\", 'Desember'])\n",
    "series\n"
   ]
  },
  {
   "cell_type": "code",
   "execution_count": 72,
   "metadata": {},
   "outputs": [
    {
     "name": "stdout",
     "output_type": "stream",
     "text": [
      "577.5\n"
     ]
    }
   ],
   "source": [
    "rata = series.mean()\n",
    "print(rata)"
   ]
  },
  {
   "cell_type": "code",
   "execution_count": 74,
   "metadata": {},
   "outputs": [
    {
     "data": {
      "text/plain": [
       "Februari     943\n",
       "Maret        902\n",
       "Juli         793\n",
       "September    651\n",
       "Oktober      993\n",
       "November     786\n",
       "dtype: int64"
      ]
     },
     "execution_count": 74,
     "metadata": {},
     "output_type": "execute_result"
    }
   ],
   "source": [
    "series[series > rata]"
   ]
  },
  {
   "cell_type": "code",
   "execution_count": 76,
   "metadata": {},
   "outputs": [
    {
     "name": "stdout",
     "output_type": "stream",
     "text": [
      "Januari      408.0\n",
      "Februari     577.5\n",
      "Maret        577.5\n",
      "April        117.0\n",
      "Mei          389.0\n",
      "Juni         435.0\n",
      "Juli         577.5\n",
      "Agustus      356.0\n",
      "September    577.5\n",
      "Oktober      577.5\n",
      "November     577.5\n",
      "Desember     157.0\n",
      "dtype: float64\n"
     ]
    }
   ],
   "source": [
    "series[series > rata] = rata\n",
    "\n",
    "print(series)"
   ]
  }
 ],
 "metadata": {
  "kernelspec": {
   "display_name": "Python 3",
   "language": "python",
   "name": "python3"
  },
  "language_info": {
   "codemirror_mode": {
    "name": "ipython",
    "version": 3
   },
   "file_extension": ".py",
   "mimetype": "text/x-python",
   "name": "python",
   "nbconvert_exporter": "python",
   "pygments_lexer": "ipython3",
   "version": "3.13.0"
  }
 },
 "nbformat": 4,
 "nbformat_minor": 2
}
