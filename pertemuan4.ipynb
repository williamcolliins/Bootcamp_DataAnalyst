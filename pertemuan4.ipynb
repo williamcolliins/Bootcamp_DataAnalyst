{
 "cells": [
  {
   "cell_type": "markdown",
   "metadata": {},
   "source": [
    "LOOPING"
   ]
  },
  {
   "cell_type": "code",
   "execution_count": 1,
   "metadata": {},
   "outputs": [
    {
     "name": "stdout",
     "output_type": "stream",
     "text": [
      "koding akademi\n",
      "koding akademi\n",
      "koding akademi\n",
      "koding akademi\n"
     ]
    }
   ],
   "source": [
    "print(\"koding akademi\")\n",
    "print(\"koding akademi\")\n",
    "print(\"koding akademi\")\n",
    "print(\"koding akademi\")\n"
   ]
  },
  {
   "cell_type": "markdown",
   "metadata": {},
   "source": [
    "FOR LOOPS"
   ]
  },
  {
   "cell_type": "code",
   "execution_count": 3,
   "metadata": {},
   "outputs": [
    {
     "name": "stdout",
     "output_type": "stream",
     "text": [
      "0\n",
      "koding akademi\n",
      "1\n",
      "koding akademi\n",
      "2\n",
      "koding akademi\n",
      "3\n",
      "koding akademi\n"
     ]
    }
   ],
   "source": [
    "for i in range(4) :\n",
    "    print(i)\n",
    "    print(\"koding akademi\")"
   ]
  },
  {
   "cell_type": "code",
   "execution_count": 4,
   "metadata": {},
   "outputs": [
    {
     "name": "stdout",
     "output_type": "stream",
     "text": [
      "1\n",
      "2\n",
      "3\n",
      "4\n"
     ]
    }
   ],
   "source": [
    "for i in range(1, 5) : # (start, batas)\n",
    "    print (i)"
   ]
  },
  {
   "cell_type": "code",
   "execution_count": 6,
   "metadata": {},
   "outputs": [
    {
     "name": "stdout",
     "output_type": "stream",
     "text": [
      "1\n",
      "3\n"
     ]
    }
   ],
   "source": [
    "for i in range(1, 5, 2) :\n",
    "    print(i)"
   ]
  },
  {
   "cell_type": "code",
   "execution_count": 10,
   "metadata": {},
   "outputs": [
    {
     "name": "stdout",
     "output_type": "stream",
     "text": [
      "w\n",
      "i\n",
      "l\n",
      "l\n",
      "i\n",
      "a\n",
      "m\n"
     ]
    }
   ],
   "source": [
    "nama = \"william\"\n",
    "\n",
    "#foreach\n",
    "for i in nama :\n",
    "    print(i)"
   ]
  },
  {
   "cell_type": "code",
   "execution_count": 14,
   "metadata": {},
   "outputs": [
    {
     "name": "stdout",
     "output_type": "stream",
     "text": [
      "w\n",
      "i\n"
     ]
    }
   ],
   "source": [
    "nama = \"william\"\n",
    "\n",
    "print(nama[0])\n",
    "print(nama[1])"
   ]
  },
  {
   "cell_type": "code",
   "execution_count": 16,
   "metadata": {},
   "outputs": [
    {
     "name": "stdout",
     "output_type": "stream",
     "text": [
      "w\n",
      "i\n",
      "l\n",
      "l\n"
     ]
    }
   ],
   "source": [
    "nama = \"william\"\n",
    "\n",
    "#for\n",
    "\n",
    "for i in range(0, 4) :\n",
    "    print(nama[i])"
   ]
  },
  {
   "cell_type": "markdown",
   "metadata": {},
   "source": [
    "WHILE LOOPS"
   ]
  },
  {
   "cell_type": "markdown",
   "metadata": {},
   "source": [
    "Apabila While True Pengulangan Akan Terus Berjalan, Sedangkan While False Akan Berhenti"
   ]
  },
  {
   "cell_type": "code",
   "execution_count": 18,
   "metadata": {},
   "outputs": [],
   "source": [
    "while False:\n",
    "    print(\"koding akademi\")"
   ]
  },
  {
   "cell_type": "code",
   "execution_count": 21,
   "metadata": {},
   "outputs": [
    {
     "name": "stdout",
     "output_type": "stream",
     "text": [
      "admin\n"
     ]
    }
   ],
   "source": [
    "username = \"admin\"\n",
    "\n",
    "while username == \"admin\":\n",
    "    print(username)\n",
    "    username = \"user\""
   ]
  },
  {
   "cell_type": "code",
   "execution_count": 22,
   "metadata": {},
   "outputs": [
    {
     "name": "stdout",
     "output_type": "stream",
     "text": [
      "admin\n"
     ]
    }
   ],
   "source": [
    "username = \"admin\"\n",
    "\n",
    "while username == \"admin\":\n",
    "    print(username)\n",
    "    break"
   ]
  },
  {
   "cell_type": "code",
   "execution_count": 25,
   "metadata": {},
   "outputs": [],
   "source": [
    "while True:\n",
    "    break\n",
    "    print(\"hello\")"
   ]
  },
  {
   "cell_type": "code",
   "execution_count": 27,
   "metadata": {},
   "outputs": [
    {
     "name": "stdout",
     "output_type": "stream",
     "text": [
      "pilih menu : \n",
      "1. nasi goreng\n",
      "2. sate ayam\n",
      "3. keluar\n",
      "sistem keluar !!!\n"
     ]
    }
   ],
   "source": [
    "while True:\n",
    "    print(\"pilih menu : \")\n",
    "    print(\"1. nasi goreng\")\n",
    "    print(\"2. sate ayam\")\n",
    "    print(\"3. keluar\")\n",
    "\n",
    "    kondisi = input(\"pilih menu :\")\n",
    "\n",
    "    if kondisi == \"1\":\n",
    "        print(\"nasi goreng\")\n",
    "    elif kondisi == \"2\":\n",
    "        print(\"sate ayam\")\n",
    "    elif kondisi == \"3\":\n",
    "        print(\"sistem keluar !!!\")\n",
    "        break\n",
    "    else:\n",
    "        print(\"inputan salah !!!\")"
   ]
  },
  {
   "cell_type": "code",
   "execution_count": 28,
   "metadata": {},
   "outputs": [
    {
     "name": "stdout",
     "output_type": "stream",
     "text": [
      "0\n",
      "1\n",
      "2\n",
      "3\n",
      "4\n"
     ]
    }
   ],
   "source": [
    "count = 0\n",
    "\n",
    "while count < 5:\n",
    "    print(count)\n",
    "    count += 1"
   ]
  },
  {
   "cell_type": "markdown",
   "metadata": {},
   "source": [
    "ASSIGNMENT"
   ]
  },
  {
   "cell_type": "code",
   "execution_count": 29,
   "metadata": {},
   "outputs": [
    {
     "name": "stdout",
     "output_type": "stream",
     "text": [
      "1\n",
      "2\n",
      "3\n",
      "4\n",
      "5\n",
      "6\n",
      "7\n",
      "8\n",
      "9\n",
      "10\n"
     ]
    }
   ],
   "source": [
    "for i in range (1, 11):\n",
    "    print(i)"
   ]
  },
  {
   "cell_type": "code",
   "execution_count": 32,
   "metadata": {},
   "outputs": [
    {
     "name": "stdout",
     "output_type": "stream",
     "text": [
      "0\n",
      "1\n",
      "2\n",
      "3\n",
      "4\n",
      "5\n",
      "6\n",
      "7\n",
      "8\n",
      "9\n",
      "10\n",
      "Selamat Anda Memenangkan Permainan Ini !\n"
     ]
    }
   ],
   "source": [
    "score = 0\n",
    "end_score = 10\n",
    "\n",
    "while score <= end_score :\n",
    "    print(score)\n",
    "    score += 1\n",
    "\n",
    "print(\"Selamat Anda Memenangkan Permainan Ini !\")"
   ]
  },
  {
   "cell_type": "markdown",
   "metadata": {},
   "source": [
    "Jawaban No 4 Dengan While Loops"
   ]
  },
  {
   "cell_type": "code",
   "execution_count": 33,
   "metadata": {},
   "outputs": [
    {
     "name": "stdout",
     "output_type": "stream",
     "text": [
      "190\n"
     ]
    }
   ],
   "source": [
    "angka = 10\n",
    "total = 0\n",
    "\n",
    "while True:\n",
    "    total += angka\n",
    "    angka += 2\n",
    "\n",
    "    if angka >=30:\n",
    "        break\n",
    "\n",
    "print (total)"
   ]
  },
  {
   "cell_type": "markdown",
   "metadata": {},
   "source": [
    "Jawaban No 4 Dengan For Loops"
   ]
  },
  {
   "cell_type": "code",
   "execution_count": 34,
   "metadata": {},
   "outputs": [
    {
     "name": "stdout",
     "output_type": "stream",
     "text": [
      "10\n",
      "12\n",
      "14\n",
      "16\n",
      "18\n",
      "20\n",
      "22\n",
      "24\n",
      "26\n",
      "28\n"
     ]
    }
   ],
   "source": [
    "for i in range (10, 30, 2):\n",
    "    print (i)"
   ]
  },
  {
   "cell_type": "code",
   "execution_count": 51,
   "metadata": {},
   "outputs": [
    {
     "name": "stdout",
     "output_type": "stream",
     "text": [
      "7.6\n"
     ]
    }
   ],
   "source": [
    "total = 0\n",
    "n = 0\n",
    "\n",
    "while True:\n",
    "    angka = int(input(\"angka : \"))\n",
    "    total += angka\n",
    "    n += 1\n",
    "    if n == 5:\n",
    "        break\n",
    "\n",
    "print(total / n)"
   ]
  },
  {
   "cell_type": "markdown",
   "metadata": {},
   "source": [
    "Jawaban Nomor 3"
   ]
  },
  {
   "cell_type": "code",
   "execution_count": 59,
   "metadata": {},
   "outputs": [
    {
     "name": "stdout",
     "output_type": "stream",
     "text": [
      "*****\n",
      "*****\n",
      "*****\n",
      "*****\n",
      "*****\n"
     ]
    }
   ],
   "source": [
    "for i in range(5):\n",
    "    for x in range(5):\n",
    "        print(\"*\", end = \"\")\n",
    "    print(\"\")"
   ]
  },
  {
   "cell_type": "code",
   "execution_count": 61,
   "metadata": {},
   "outputs": [
    {
     "name": "stdout",
     "output_type": "stream",
     "text": [
      "*\n",
      "**\n",
      "***\n",
      "****\n",
      "*****\n"
     ]
    }
   ],
   "source": [
    "for i in range(5):\n",
    "    for x in range(5):\n",
    "        if i >= x:\n",
    "            print(\"*\", end = \"\")\n",
    "    print(\"\")"
   ]
  }
 ],
 "metadata": {
  "kernelspec": {
   "display_name": "Python 3",
   "language": "python",
   "name": "python3"
  },
  "language_info": {
   "codemirror_mode": {
    "name": "ipython",
    "version": 3
   },
   "file_extension": ".py",
   "mimetype": "text/x-python",
   "name": "python",
   "nbconvert_exporter": "python",
   "pygments_lexer": "ipython3",
   "version": "3.13.0"
  }
 },
 "nbformat": 4,
 "nbformat_minor": 2
}
