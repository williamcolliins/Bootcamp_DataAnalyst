{
 "cells": [
  {
   "cell_type": "markdown",
   "metadata": {},
   "source": [
    "Penggunaan SQL & Phyton"
   ]
  },
  {
   "cell_type": "code",
   "execution_count": 5,
   "metadata": {},
   "outputs": [],
   "source": [
    "import pymysql\n",
    "import pandas as pd"
   ]
  },
  {
   "cell_type": "code",
   "execution_count": 6,
   "metadata": {},
   "outputs": [
    {
     "data": {
      "text/html": [
       "<div>\n",
       "<style scoped>\n",
       "    .dataframe tbody tr th:only-of-type {\n",
       "        vertical-align: middle;\n",
       "    }\n",
       "\n",
       "    .dataframe tbody tr th {\n",
       "        vertical-align: top;\n",
       "    }\n",
       "\n",
       "    .dataframe thead th {\n",
       "        text-align: right;\n",
       "    }\n",
       "</style>\n",
       "<table border=\"1\" class=\"dataframe\">\n",
       "  <thead>\n",
       "    <tr style=\"text-align: right;\">\n",
       "      <th></th>\n",
       "      <th>id</th>\n",
       "      <th>log_date</th>\n",
       "      <th>measure</th>\n",
       "      <th>measure_value</th>\n",
       "      <th>systolic</th>\n",
       "      <th>diastolic</th>\n",
       "    </tr>\n",
       "  </thead>\n",
       "  <tbody>\n",
       "    <tr>\n",
       "      <th>0</th>\n",
       "      <td>fa28f948a740320ad56b81a24744c8b81df119fa</td>\n",
       "      <td>2020-11-15</td>\n",
       "      <td>weight</td>\n",
       "      <td>46.00</td>\n",
       "      <td>0.00</td>\n",
       "      <td>0.00</td>\n",
       "    </tr>\n",
       "    <tr>\n",
       "      <th>1</th>\n",
       "      <td>1a7366eef15512d8f38133e7ce9778bce5b4a21e</td>\n",
       "      <td>2020-10-10</td>\n",
       "      <td>blood_glucose</td>\n",
       "      <td>97.00</td>\n",
       "      <td>0.00</td>\n",
       "      <td>0.00</td>\n",
       "    </tr>\n",
       "    <tr>\n",
       "      <th>2</th>\n",
       "      <td>bd7eece38fb4ec71b3282d60080d296c4cf6ad5e</td>\n",
       "      <td>2020-10-18</td>\n",
       "      <td>blood_glucose</td>\n",
       "      <td>120.00</td>\n",
       "      <td>0.00</td>\n",
       "      <td>0.00</td>\n",
       "    </tr>\n",
       "    <tr>\n",
       "      <th>3</th>\n",
       "      <td>0f7b13f3f0512e6546b8d2c0d56e564a2408536a</td>\n",
       "      <td>2020-10-17</td>\n",
       "      <td>blood_glucose</td>\n",
       "      <td>232.00</td>\n",
       "      <td>0.00</td>\n",
       "      <td>0.00</td>\n",
       "    </tr>\n",
       "    <tr>\n",
       "      <th>4</th>\n",
       "      <td>d14df0c8c1a5f172476b2a1b1f53cf23c6992027</td>\n",
       "      <td>2020-10-15</td>\n",
       "      <td>blood_pressure</td>\n",
       "      <td>140.00</td>\n",
       "      <td>140.00</td>\n",
       "      <td>113.00</td>\n",
       "    </tr>\n",
       "    <tr>\n",
       "      <th>...</th>\n",
       "      <td>...</td>\n",
       "      <td>...</td>\n",
       "      <td>...</td>\n",
       "      <td>...</td>\n",
       "      <td>...</td>\n",
       "      <td>...</td>\n",
       "    </tr>\n",
       "    <tr>\n",
       "      <th>56</th>\n",
       "      <td>054250c692e07a9fa9e62e345231df4b54ff435d</td>\n",
       "      <td>2020-10-02</td>\n",
       "      <td>blood_glucose</td>\n",
       "      <td>208.00</td>\n",
       "      <td>0.00</td>\n",
       "      <td>0.00</td>\n",
       "    </tr>\n",
       "    <tr>\n",
       "      <th>57</th>\n",
       "      <td>054250c692e07a9fa9e62e345231df4b54ff435d</td>\n",
       "      <td>2020-10-02</td>\n",
       "      <td>blood_glucose</td>\n",
       "      <td>206.00</td>\n",
       "      <td>0.00</td>\n",
       "      <td>0.00</td>\n",
       "    </tr>\n",
       "    <tr>\n",
       "      <th>58</th>\n",
       "      <td>054250c692e07a9fa9e62e345231df4b54ff435d</td>\n",
       "      <td>2020-10-02</td>\n",
       "      <td>blood_glucose</td>\n",
       "      <td>203.00</td>\n",
       "      <td>0.00</td>\n",
       "      <td>0.00</td>\n",
       "    </tr>\n",
       "    <tr>\n",
       "      <th>59</th>\n",
       "      <td>054250c692e07a9fa9e62e345231df4b54ff435d</td>\n",
       "      <td>2020-10-02</td>\n",
       "      <td>blood_glucose</td>\n",
       "      <td>198.00</td>\n",
       "      <td>0.00</td>\n",
       "      <td>0.00</td>\n",
       "    </tr>\n",
       "    <tr>\n",
       "      <th>60</th>\n",
       "      <td>054250c692e07a9fa9e62e345231df4b54ff435d</td>\n",
       "      <td>2020-10-02</td>\n",
       "      <td>blood_glucose</td>\n",
       "      <td>194.00</td>\n",
       "      <td>0.00</td>\n",
       "      <td>0.00</td>\n",
       "    </tr>\n",
       "  </tbody>\n",
       "</table>\n",
       "<p>61 rows × 6 columns</p>\n",
       "</div>"
      ],
      "text/plain": [
       "                                          id    log_date         measure  \\\n",
       "0   fa28f948a740320ad56b81a24744c8b81df119fa  2020-11-15          weight   \n",
       "1   1a7366eef15512d8f38133e7ce9778bce5b4a21e  2020-10-10   blood_glucose   \n",
       "2   bd7eece38fb4ec71b3282d60080d296c4cf6ad5e  2020-10-18   blood_glucose   \n",
       "3   0f7b13f3f0512e6546b8d2c0d56e564a2408536a  2020-10-17   blood_glucose   \n",
       "4   d14df0c8c1a5f172476b2a1b1f53cf23c6992027  2020-10-15  blood_pressure   \n",
       "..                                       ...         ...             ...   \n",
       "56  054250c692e07a9fa9e62e345231df4b54ff435d  2020-10-02   blood_glucose   \n",
       "57  054250c692e07a9fa9e62e345231df4b54ff435d  2020-10-02   blood_glucose   \n",
       "58  054250c692e07a9fa9e62e345231df4b54ff435d  2020-10-02   blood_glucose   \n",
       "59  054250c692e07a9fa9e62e345231df4b54ff435d  2020-10-02   blood_glucose   \n",
       "60  054250c692e07a9fa9e62e345231df4b54ff435d  2020-10-02   blood_glucose   \n",
       "\n",
       "   measure_value systolic diastolic  \n",
       "0          46.00     0.00      0.00  \n",
       "1          97.00     0.00      0.00  \n",
       "2         120.00     0.00      0.00  \n",
       "3         232.00     0.00      0.00  \n",
       "4         140.00   140.00    113.00  \n",
       "..           ...      ...       ...  \n",
       "56        208.00     0.00      0.00  \n",
       "57        206.00     0.00      0.00  \n",
       "58        203.00     0.00      0.00  \n",
       "59        198.00     0.00      0.00  \n",
       "60        194.00     0.00      0.00  \n",
       "\n",
       "[61 rows x 6 columns]"
      ]
     },
     "execution_count": 6,
     "metadata": {},
     "output_type": "execute_result"
    }
   ],
   "source": [
    "db = pymysql.connect(host=\"localhost\", user = \"root\", password = \"06April1995.\", database = \"health\")\n",
    "\n",
    "query = \"SELECT * FROM user_log\"\n",
    "data = db.cursor()\n",
    "data.execute(query)\n",
    "\n",
    "result = data.fetchall()\n",
    "kolom = [kolom[0] for kolom in data.description]\n",
    "\n",
    "df = pd.DataFrame(result, columns=kolom)\n",
    "df"
   ]
  },
  {
   "cell_type": "markdown",
   "metadata": {},
   "source": [
    "ASSIGNMENT A"
   ]
  },
  {
   "cell_type": "code",
   "execution_count": 19,
   "metadata": {},
   "outputs": [],
   "source": [
    "import pymysql\n",
    "import pandas as pd"
   ]
  },
  {
   "cell_type": "code",
   "execution_count": 20,
   "metadata": {},
   "outputs": [
    {
     "data": {
      "text/html": [
       "<div>\n",
       "<style scoped>\n",
       "    .dataframe tbody tr th:only-of-type {\n",
       "        vertical-align: middle;\n",
       "    }\n",
       "\n",
       "    .dataframe tbody tr th {\n",
       "        vertical-align: top;\n",
       "    }\n",
       "\n",
       "    .dataframe thead th {\n",
       "        text-align: right;\n",
       "    }\n",
       "</style>\n",
       "<table border=\"1\" class=\"dataframe\">\n",
       "  <thead>\n",
       "    <tr style=\"text-align: right;\">\n",
       "      <th></th>\n",
       "      <th>employee_id</th>\n",
       "      <th>first_name</th>\n",
       "      <th>last_name</th>\n",
       "      <th>department</th>\n",
       "      <th>salary</th>\n",
       "      <th>hire_date</th>\n",
       "      <th>manager_id</th>\n",
       "    </tr>\n",
       "  </thead>\n",
       "  <tbody>\n",
       "    <tr>\n",
       "      <th>0</th>\n",
       "      <td>1</td>\n",
       "      <td>John</td>\n",
       "      <td>Doe</td>\n",
       "      <td>Human Resources</td>\n",
       "      <td>50000.00</td>\n",
       "      <td>2023-06-15</td>\n",
       "      <td>NaN</td>\n",
       "    </tr>\n",
       "    <tr>\n",
       "      <th>1</th>\n",
       "      <td>2</td>\n",
       "      <td>Jane</td>\n",
       "      <td>Smith</td>\n",
       "      <td>Finance</td>\n",
       "      <td>60000.00</td>\n",
       "      <td>2022-11-01</td>\n",
       "      <td>1.0</td>\n",
       "    </tr>\n",
       "    <tr>\n",
       "      <th>2</th>\n",
       "      <td>3</td>\n",
       "      <td>Emily</td>\n",
       "      <td>Johnson</td>\n",
       "      <td>Marketing</td>\n",
       "      <td>45000.00</td>\n",
       "      <td>2024-01-10</td>\n",
       "      <td>NaN</td>\n",
       "    </tr>\n",
       "    <tr>\n",
       "      <th>3</th>\n",
       "      <td>4</td>\n",
       "      <td>Michael</td>\n",
       "      <td>Williams</td>\n",
       "      <td>IT</td>\n",
       "      <td>70000.00</td>\n",
       "      <td>2021-04-20</td>\n",
       "      <td>1.0</td>\n",
       "    </tr>\n",
       "    <tr>\n",
       "      <th>4</th>\n",
       "      <td>5</td>\n",
       "      <td>Linda</td>\n",
       "      <td>Brown</td>\n",
       "      <td>Sales</td>\n",
       "      <td>55000.00</td>\n",
       "      <td>2022-09-15</td>\n",
       "      <td>3.0</td>\n",
       "    </tr>\n",
       "  </tbody>\n",
       "</table>\n",
       "</div>"
      ],
      "text/plain": [
       "   employee_id first_name last_name       department    salary   hire_date  \\\n",
       "0            1       John       Doe  Human Resources  50000.00  2023-06-15   \n",
       "1            2       Jane     Smith          Finance  60000.00  2022-11-01   \n",
       "2            3      Emily   Johnson        Marketing  45000.00  2024-01-10   \n",
       "3            4    Michael  Williams               IT  70000.00  2021-04-20   \n",
       "4            5      Linda     Brown            Sales  55000.00  2022-09-15   \n",
       "\n",
       "   manager_id  \n",
       "0         NaN  \n",
       "1         1.0  \n",
       "2         NaN  \n",
       "3         1.0  \n",
       "4         3.0  "
      ]
     },
     "execution_count": 20,
     "metadata": {},
     "output_type": "execute_result"
    }
   ],
   "source": [
    "db = pymysql.connect(host=\"localhost\", user = \"root\", password = \"06April1995.\", database = \"company\")\n",
    "\n",
    "query = \"SELECT * FROM employees\"\n",
    "data = db.cursor()\n",
    "data.execute(query)\n",
    "\n",
    "result = data.fetchall()\n",
    "kolom = [kolom[0] for kolom in data.description]\n",
    "\n",
    "df = pd.DataFrame(result, columns=kolom)\n",
    "df"
   ]
  },
  {
   "cell_type": "markdown",
   "metadata": {},
   "source": [
    "1"
   ]
  },
  {
   "cell_type": "code",
   "execution_count": 27,
   "metadata": {},
   "outputs": [
    {
     "name": "stdout",
     "output_type": "stream",
     "text": [
      "280000.0\n"
     ]
    }
   ],
   "source": [
    "print(df['salary'].sum())"
   ]
  },
  {
   "cell_type": "markdown",
   "metadata": {},
   "source": [
    "2"
   ]
  },
  {
   "cell_type": "code",
   "execution_count": 28,
   "metadata": {},
   "outputs": [
    {
     "name": "stdout",
     "output_type": "stream",
     "text": [
      "                  salary\n",
      "department              \n",
      "Finance          60000.0\n",
      "Human Resources  50000.0\n",
      "IT               70000.0\n",
      "Marketing        45000.0\n",
      "Sales            55000.0\n"
     ]
    }
   ],
   "source": [
    "print(df.groupby('department')[['salary']].mean())"
   ]
  },
  {
   "cell_type": "markdown",
   "metadata": {},
   "source": [
    "3"
   ]
  },
  {
   "cell_type": "code",
   "execution_count": 32,
   "metadata": {},
   "outputs": [
    {
     "name": "stdout",
     "output_type": "stream",
     "text": [
      "department\n",
      "Human Resources    1\n",
      "Finance            1\n",
      "Marketing          1\n",
      "IT                 1\n",
      "Sales              1\n",
      "Name: count, dtype: int64\n"
     ]
    }
   ],
   "source": [
    "print(df['department'].value_counts())"
   ]
  },
  {
   "cell_type": "markdown",
   "metadata": {},
   "source": [
    "4"
   ]
  },
  {
   "cell_type": "code",
   "execution_count": 34,
   "metadata": {},
   "outputs": [
    {
     "name": "stdout",
     "output_type": "stream",
     "text": [
      "Gaji Tertinggi = 70000.0\n",
      "Gaji Terendah = 45000.0\n"
     ]
    }
   ],
   "source": [
    "gaji_tertinggi = df['salary'].max()\n",
    "gaji_terendah = df['salary'].min()\n",
    "\n",
    "print(f\"Gaji Tertinggi = {gaji_tertinggi}\")\n",
    "print(f\"Gaji Terendah = {gaji_terendah}\")"
   ]
  },
  {
   "cell_type": "markdown",
   "metadata": {},
   "source": [
    "ASSIGNMENT B"
   ]
  },
  {
   "cell_type": "markdown",
   "metadata": {},
   "source": [
    "1"
   ]
  },
  {
   "cell_type": "code",
   "execution_count": 35,
   "metadata": {},
   "outputs": [
    {
     "name": "stdout",
     "output_type": "stream",
     "text": [
      "['Human Resources' 'Finance' 'Marketing' 'IT' 'Sales']\n"
     ]
    }
   ],
   "source": [
    "unique_departments = df['department'].unique()\n",
    "\n",
    "print(unique_departments)\n"
   ]
  },
  {
   "cell_type": "markdown",
   "metadata": {},
   "source": [
    "2"
   ]
  },
  {
   "cell_type": "code",
   "execution_count": 37,
   "metadata": {},
   "outputs": [
    {
     "name": "stdout",
     "output_type": "stream",
     "text": [
      "first_name  last_name\n",
      "Emily       Johnson      1\n",
      "Jane        Smith        1\n",
      "John        Doe          1\n",
      "Linda       Brown        1\n",
      "Michael     Williams     1\n",
      "dtype: int64\n"
     ]
    }
   ],
   "source": [
    "data = {\n",
    "    'first_name': ['John', 'Jane', 'Emily', 'Michael', 'Linda'],\n",
    "    'last_name': ['Doe', 'Smith', 'Johnson', 'Williams', 'Brown']\n",
    "}\n",
    "\n",
    "df = pd.DataFrame(data)\n",
    "\n",
    "grouped = df.groupby(['first_name', 'last_name']).size()\n",
    "\n",
    "print(grouped)\n",
    "\n"
   ]
  },
  {
   "cell_type": "markdown",
   "metadata": {},
   "source": [
    "ASSIGNMENT C"
   ]
  },
  {
   "cell_type": "code",
   "execution_count": 41,
   "metadata": {},
   "outputs": [
    {
     "data": {
      "text/html": [
       "<div>\n",
       "<style scoped>\n",
       "    .dataframe tbody tr th:only-of-type {\n",
       "        vertical-align: middle;\n",
       "    }\n",
       "\n",
       "    .dataframe tbody tr th {\n",
       "        vertical-align: top;\n",
       "    }\n",
       "\n",
       "    .dataframe thead th {\n",
       "        text-align: right;\n",
       "    }\n",
       "</style>\n",
       "<table border=\"1\" class=\"dataframe\">\n",
       "  <thead>\n",
       "    <tr style=\"text-align: right;\">\n",
       "      <th></th>\n",
       "      <th>employee_id</th>\n",
       "      <th>first_name</th>\n",
       "      <th>last_name</th>\n",
       "      <th>department</th>\n",
       "      <th>salary</th>\n",
       "      <th>hire_date</th>\n",
       "      <th>manager_id</th>\n",
       "    </tr>\n",
       "  </thead>\n",
       "  <tbody>\n",
       "    <tr>\n",
       "      <th>0</th>\n",
       "      <td>1</td>\n",
       "      <td>John</td>\n",
       "      <td>Doe</td>\n",
       "      <td>Human Resources</td>\n",
       "      <td>50000.00</td>\n",
       "      <td>2023-06-15</td>\n",
       "      <td>NaN</td>\n",
       "    </tr>\n",
       "    <tr>\n",
       "      <th>1</th>\n",
       "      <td>2</td>\n",
       "      <td>Jane</td>\n",
       "      <td>Smith</td>\n",
       "      <td>Finance</td>\n",
       "      <td>60000.00</td>\n",
       "      <td>2022-11-01</td>\n",
       "      <td>1.0</td>\n",
       "    </tr>\n",
       "    <tr>\n",
       "      <th>2</th>\n",
       "      <td>3</td>\n",
       "      <td>Emily</td>\n",
       "      <td>Johnson</td>\n",
       "      <td>Marketing</td>\n",
       "      <td>45000.00</td>\n",
       "      <td>2024-01-10</td>\n",
       "      <td>NaN</td>\n",
       "    </tr>\n",
       "    <tr>\n",
       "      <th>3</th>\n",
       "      <td>4</td>\n",
       "      <td>Michael</td>\n",
       "      <td>Williams</td>\n",
       "      <td>IT</td>\n",
       "      <td>70000.00</td>\n",
       "      <td>2021-04-20</td>\n",
       "      <td>1.0</td>\n",
       "    </tr>\n",
       "    <tr>\n",
       "      <th>4</th>\n",
       "      <td>5</td>\n",
       "      <td>Linda</td>\n",
       "      <td>Brown</td>\n",
       "      <td>Sales</td>\n",
       "      <td>55000.00</td>\n",
       "      <td>2022-09-15</td>\n",
       "      <td>3.0</td>\n",
       "    </tr>\n",
       "  </tbody>\n",
       "</table>\n",
       "</div>"
      ],
      "text/plain": [
       "   employee_id first_name last_name       department    salary   hire_date  \\\n",
       "0            1       John       Doe  Human Resources  50000.00  2023-06-15   \n",
       "1            2       Jane     Smith          Finance  60000.00  2022-11-01   \n",
       "2            3      Emily   Johnson        Marketing  45000.00  2024-01-10   \n",
       "3            4    Michael  Williams               IT  70000.00  2021-04-20   \n",
       "4            5      Linda     Brown            Sales  55000.00  2022-09-15   \n",
       "\n",
       "   manager_id  \n",
       "0         NaN  \n",
       "1         1.0  \n",
       "2         NaN  \n",
       "3         1.0  \n",
       "4         3.0  "
      ]
     },
     "execution_count": 41,
     "metadata": {},
     "output_type": "execute_result"
    }
   ],
   "source": [
    "db = pymysql.connect(host=\"localhost\", user = \"root\", password = \"06April1995.\", database = \"company\")\n",
    "\n",
    "query = \"SELECT * FROM employees\"\n",
    "data = db.cursor()\n",
    "data.execute(query)\n",
    "\n",
    "result = data.fetchall()\n",
    "kolom = [kolom[0] for kolom in data.description]\n",
    "\n",
    "df = pd.DataFrame(result, columns=kolom)\n",
    "df"
   ]
  },
  {
   "cell_type": "markdown",
   "metadata": {},
   "source": [
    "1"
   ]
  },
  {
   "cell_type": "code",
   "execution_count": 42,
   "metadata": {},
   "outputs": [
    {
     "name": "stdout",
     "output_type": "stream",
     "text": [
      "                   salary\n",
      "department               \n",
      "Finance          60000.00\n",
      "Human Resources  50000.00\n",
      "IT               70000.00\n",
      "Marketing        45000.00\n",
      "Sales            55000.00\n"
     ]
    }
   ],
   "source": [
    "print(df.groupby('department')[['salary']].sum())"
   ]
  },
  {
   "cell_type": "markdown",
   "metadata": {},
   "source": [
    "2"
   ]
  },
  {
   "cell_type": "code",
   "execution_count": 43,
   "metadata": {},
   "outputs": [
    {
     "name": "stdout",
     "output_type": "stream",
     "text": [
      "department\n",
      "Human Resources    1\n",
      "Finance            1\n",
      "Marketing          1\n",
      "IT                 1\n",
      "Sales              1\n",
      "Name: count, dtype: int64\n",
      "                   salary\n",
      "department               \n",
      "Finance          60000.00\n",
      "Human Resources  50000.00\n",
      "IT               70000.00\n",
      "Marketing        45000.00\n",
      "Sales            55000.00\n"
     ]
    }
   ],
   "source": [
    "print(df['department'].value_counts())\n",
    "print(df.groupby('department')[['salary']].sum())"
   ]
  },
  {
   "cell_type": "markdown",
   "metadata": {},
   "source": [
    "3"
   ]
  },
  {
   "cell_type": "code",
   "execution_count": 45,
   "metadata": {},
   "outputs": [
    {
     "name": "stdout",
     "output_type": "stream",
     "text": [
      "                  salary\n",
      "department              \n",
      "Finance          60000.0\n",
      "Human Resources  50000.0\n",
      "IT               70000.0\n",
      "Marketing        45000.0\n",
      "Sales            55000.0\n"
     ]
    }
   ],
   "source": [
    "print(df.groupby('department')[['salary']].mean())"
   ]
  }
 ],
 "metadata": {
  "kernelspec": {
   "display_name": "Python 3",
   "language": "python",
   "name": "python3"
  },
  "language_info": {
   "codemirror_mode": {
    "name": "ipython",
    "version": 3
   },
   "file_extension": ".py",
   "mimetype": "text/x-python",
   "name": "python",
   "nbconvert_exporter": "python",
   "pygments_lexer": "ipython3",
   "version": "3.13.0"
  }
 },
 "nbformat": 4,
 "nbformat_minor": 2
}
