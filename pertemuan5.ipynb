{
 "cells": [
  {
   "cell_type": "markdown",
   "metadata": {},
   "source": [
    "ACCESSING LIST"
   ]
  },
  {
   "cell_type": "code",
   "execution_count": 2,
   "metadata": {},
   "outputs": [
    {
     "name": "stdout",
     "output_type": "stream",
     "text": [
      "surabaya\n",
      "sidoarjo\n",
      "gresik\n"
     ]
    }
   ],
   "source": [
    "alamat = [\"surabaya\", \"sidoarjo\", \"gresik\"]\n",
    "nama = \"william\"\n",
    "\n",
    "print(alamat[0])\n",
    "print(alamat[1])\n",
    "print(alamat[2])"
   ]
  },
  {
   "cell_type": "code",
   "execution_count": 7,
   "metadata": {},
   "outputs": [
    {
     "name": "stdout",
     "output_type": "stream",
     "text": [
      "surabaya\n",
      "sidoarjo\n",
      "gresik\n",
      "surabaya\n",
      "sidoarjo\n",
      "gresik\n"
     ]
    }
   ],
   "source": [
    "for i in alamat :\n",
    "    print(i)\n",
    "\n",
    "for i in range(len(alamat)) :\n",
    "    print(alamat[i])"
   ]
  },
  {
   "cell_type": "code",
   "execution_count": 14,
   "metadata": {},
   "outputs": [
    {
     "name": "stdout",
     "output_type": "stream",
     "text": [
      "surabaya\n",
      "['surabaya', 'sidoarjo']\n",
      "['sidoarjo', 'gresik', 'malang']\n",
      "malang\n",
      "sidoarjo\n",
      "['sidoarjo', 'gresik', 'malang']\n",
      "['surabaya', 'gresik']\n",
      "['malang', 'gresik', 'sidoarjo', 'surabaya']\n"
     ]
    }
   ],
   "source": [
    "alamat = [\"surabaya\", \"sidoarjo\", \"gresik\", \"malang\"]\n",
    "\n",
    "print (alamat[0])\n",
    "\n",
    "# slicing\n",
    "\n",
    "print(alamat[0 : 2]) # [start : batas]\n",
    "print(alamat[1 :])\n",
    "print(alamat[-1])\n",
    "print(alamat[-3])\n",
    "print(alamat[-3 :])\n",
    "print(alamat[0 : 3 : 2]) # [start : batas : step]\n",
    "print(alamat[: :-1])"
   ]
  },
  {
   "cell_type": "markdown",
   "metadata": {},
   "source": [
    "UPDATE LIST"
   ]
  },
  {
   "cell_type": "code",
   "execution_count": null,
   "metadata": {},
   "outputs": [
    {
     "name": "stdout",
     "output_type": "stream",
     "text": [
      "['jakarta', 'sidoarjo', 'gresik', 'malang']\n"
     ]
    }
   ],
   "source": [
    "alamat = [\"surabaya\", \"sidoarjo\", \"gresik\", \"malang\"]\n",
    "alamat[0] = \"jakarta\"\n",
    "print(alamat)"
   ]
  },
  {
   "cell_type": "code",
   "execution_count": 17,
   "metadata": {},
   "outputs": [
    {
     "name": "stdout",
     "output_type": "stream",
     "text": [
      "['surabaya', 'sidoarjo', 'gresik', 'malang', 'denpasar']\n"
     ]
    }
   ],
   "source": [
    "alamat = [\"surabaya\", \"sidoarjo\", \"gresik\", \"malang\"]\n",
    "alamat.append(\"denpasar\")\n",
    "print(alamat)"
   ]
  },
  {
   "cell_type": "code",
   "execution_count": 18,
   "metadata": {},
   "outputs": [
    {
     "name": "stdout",
     "output_type": "stream",
     "text": [
      "['denpasar', 'surabaya', 'sidoarjo', 'gresik', 'malang']\n"
     ]
    }
   ],
   "source": [
    "alamat = [\"surabaya\", \"sidoarjo\", \"gresik\", \"malang\"]\n",
    "alamat.insert(0, \"denpasar\")\n",
    "print(alamat)"
   ]
  },
  {
   "cell_type": "markdown",
   "metadata": {},
   "source": [
    "DELETE LIST"
   ]
  },
  {
   "cell_type": "code",
   "execution_count": 20,
   "metadata": {},
   "outputs": [
    {
     "name": "stdout",
     "output_type": "stream",
     "text": [
      "['sidoarjo', 'gresik', 'malang']\n"
     ]
    }
   ],
   "source": [
    "alamat = [\"surabaya\", \"sidoarjo\", \"gresik\", \"malang\"]\n",
    "del alamat[0]\n",
    "print(alamat)"
   ]
  },
  {
   "cell_type": "code",
   "execution_count": 21,
   "metadata": {},
   "outputs": [
    {
     "name": "stdout",
     "output_type": "stream",
     "text": [
      "['surabaya', 'gresik', 'malang']\n"
     ]
    }
   ],
   "source": [
    "alamat = [\"surabaya\", \"sidoarjo\", \"gresik\", \"malang\"]\n",
    "alamat.remove(\"sidoarjo\")\n",
    "print(alamat)"
   ]
  },
  {
   "cell_type": "code",
   "execution_count": 22,
   "metadata": {},
   "outputs": [
    {
     "name": "stdout",
     "output_type": "stream",
     "text": [
      "['surabaya', 'gresik', 'malang']\n",
      "sidoarjo\n"
     ]
    }
   ],
   "source": [
    "alamat = [\"surabaya\", \"sidoarjo\", \"gresik\", \"malang\"]\n",
    "hapus = alamat.pop(1)\n",
    "print(alamat)\n",
    "print(hapus)"
   ]
  },
  {
   "cell_type": "markdown",
   "metadata": {},
   "source": [
    "LIST COMBINE"
   ]
  },
  {
   "cell_type": "code",
   "execution_count": null,
   "metadata": {},
   "outputs": [
    {
     "name": "stdout",
     "output_type": "stream",
     "text": [
      "['surabaya', 'sidoarjo', 'gresik', 'malang']\n"
     ]
    }
   ],
   "source": [
    "alamat1 = [\"surabaya\", \"sidoarjo\"]\n",
    "alamat2 = [\"gresik\", \"malang\"]\n",
    "hasil = alamat1 + alamat2\n",
    "print(hasil)"
   ]
  },
  {
   "cell_type": "code",
   "execution_count": 25,
   "metadata": {},
   "outputs": [
    {
     "name": "stdout",
     "output_type": "stream",
     "text": [
      "['surabaya', 'sidoarjo', 'surabaya', 'sidoarjo']\n"
     ]
    }
   ],
   "source": [
    "alamat1 = [\"surabaya\", \"sidoarjo\"]\n",
    "hasil = alamat1 * 2\n",
    "print(hasil)"
   ]
  },
  {
   "cell_type": "markdown",
   "metadata": {},
   "source": [
    "LIST MULTIDIMENSI"
   ]
  },
  {
   "cell_type": "code",
   "execution_count": 26,
   "metadata": {},
   "outputs": [
    {
     "name": "stdout",
     "output_type": "stream",
     "text": [
      "[0, 1, 2]\n",
      "2\n"
     ]
    }
   ],
   "source": [
    "data = [\n",
    "    [0,1,2],\n",
    "    [3,4,5],\n",
    "    [6,7,8]\n",
    "]\n",
    "\n",
    "print(data[0])\n",
    "print(data[0][2])"
   ]
  },
  {
   "cell_type": "code",
   "execution_count": 29,
   "metadata": {},
   "outputs": [
    {
     "name": "stdout",
     "output_type": "stream",
     "text": [
      "[0, 1, 2]\n",
      "0\n",
      "1\n",
      "2\n",
      "[3, 4, 5]\n",
      "3\n",
      "4\n",
      "5\n",
      "[6, 7, 8]\n",
      "6\n",
      "7\n",
      "8\n"
     ]
    }
   ],
   "source": [
    "for i in data:\n",
    "    print(i)\n",
    "    for z in i:\n",
    "        print(z)"
   ]
  },
  {
   "cell_type": "code",
   "execution_count": 30,
   "metadata": {},
   "outputs": [
    {
     "name": "stdout",
     "output_type": "stream",
     "text": [
      "[0, 1, 4, 9, 16]\n"
     ]
    }
   ],
   "source": [
    "data = [i ** 2 for i in range(5)]\n",
    "\n",
    "print(data)"
   ]
  },
  {
   "cell_type": "markdown",
   "metadata": {},
   "source": [
    "MAP"
   ]
  },
  {
   "cell_type": "code",
   "execution_count": 32,
   "metadata": {},
   "outputs": [
    {
     "name": "stdout",
     "output_type": "stream",
     "text": [
      "1.0\n",
      "2.0\n",
      "3.0\n"
     ]
    }
   ],
   "source": [
    "a, b, c = map(float, [1,2,3])\n",
    "\n",
    "print(a)\n",
    "print(b)\n",
    "print(c)"
   ]
  },
  {
   "cell_type": "markdown",
   "metadata": {},
   "source": [
    "SPLIT"
   ]
  },
  {
   "cell_type": "code",
   "execution_count": 33,
   "metadata": {},
   "outputs": [
    {
     "name": "stdout",
     "output_type": "stream",
     "text": [
      "['halo', 'william', 'semangat']\n"
     ]
    }
   ],
   "source": [
    "data = input(\"masukan kata : \")\n",
    "hasil = data.split()\n",
    "print(hasil)"
   ]
  },
  {
   "cell_type": "markdown",
   "metadata": {},
   "source": [
    "MAP & SPLIT"
   ]
  },
  {
   "cell_type": "code",
   "execution_count": 35,
   "metadata": {},
   "outputs": [
    {
     "name": "stdout",
     "output_type": "stream",
     "text": [
      "1.0\n",
      "2.0\n",
      "3.0\n"
     ]
    }
   ],
   "source": [
    "a, b, c = map(float, input(\"angka : \").split())\n",
    "\n",
    "print(a)\n",
    "print(b)\n",
    "print(c)"
   ]
  },
  {
   "cell_type": "code",
   "execution_count": 36,
   "metadata": {},
   "outputs": [
    {
     "name": "stdout",
     "output_type": "stream",
     "text": [
      "[1, 2, 3, 4]\n",
      "[1, 2, 3]\n"
     ]
    }
   ],
   "source": [
    "data = [1,2,3,4]\n",
    "test = list([1,2,3])\n",
    "print(data)\n",
    "print(test)"
   ]
  },
  {
   "cell_type": "code",
   "execution_count": 38,
   "metadata": {},
   "outputs": [
    {
     "name": "stdout",
     "output_type": "stream",
     "text": [
      "[1, 2, 3, 4]\n",
      "['h', 'a', 'l', 'o']\n"
     ]
    }
   ],
   "source": [
    "data = [1,2,3,4]\n",
    "test = list(\"halo\")\n",
    "print(data)\n",
    "print(test)"
   ]
  },
  {
   "cell_type": "markdown",
   "metadata": {},
   "source": [
    "LIST, MAP & SPLIT"
   ]
  },
  {
   "cell_type": "code",
   "execution_count": 39,
   "metadata": {},
   "outputs": [
    {
     "name": "stdout",
     "output_type": "stream",
     "text": [
      "[1.0, 2.0, 3.0]\n"
     ]
    }
   ],
   "source": [
    "data = list(map(float, input(\"angka : \").split()))\n",
    "print(data)"
   ]
  },
  {
   "cell_type": "markdown",
   "metadata": {},
   "source": [
    "ASSIGNMENT"
   ]
  },
  {
   "cell_type": "code",
   "execution_count": 40,
   "metadata": {},
   "outputs": [],
   "source": [
    "list = [\"kosong\"]"
   ]
  },
  {
   "cell_type": "code",
   "execution_count": 41,
   "metadata": {},
   "outputs": [],
   "source": [
    "aktif = [True]"
   ]
  },
  {
   "cell_type": "code",
   "execution_count": 42,
   "metadata": {},
   "outputs": [],
   "source": [
    "kodepos = [1,2,3,4,5]"
   ]
  },
  {
   "cell_type": "code",
   "execution_count": 43,
   "metadata": {},
   "outputs": [],
   "source": [
    "warna = [\"merah\", \"hijau\", \"biru\"]"
   ]
  },
  {
   "cell_type": "code",
   "execution_count": 45,
   "metadata": {},
   "outputs": [
    {
     "name": "stdout",
     "output_type": "stream",
     "text": [
      "False\n"
     ]
    }
   ],
   "source": [
    "cek_panjang = [1,2,3,4,5,6,7]\n",
    "\n",
    "if len(cek_panjang) > 10:\n",
    "    print(True)\n",
    "else:\n",
    "    print(False)"
   ]
  },
  {
   "cell_type": "code",
   "execution_count": 48,
   "metadata": {},
   "outputs": [
    {
     "name": "stdout",
     "output_type": "stream",
     "text": [
      "True\n"
     ]
    }
   ],
   "source": [
    "cek_panjang = input(\"angka : \").split()\n",
    "\n",
    "if len(cek_panjang) > 10:\n",
    "    print(True)\n",
    "else:\n",
    "    print(False)"
   ]
  },
  {
   "cell_type": "code",
   "execution_count": 52,
   "metadata": {},
   "outputs": [
    {
     "name": "stdout",
     "output_type": "stream",
     "text": [
      " koding akademi\n"
     ]
    }
   ],
   "source": [
    "mystr = \"welcome to koding akademi\"\n",
    "\n",
    "print(mystr[10:25])"
   ]
  },
  {
   "cell_type": "code",
   "execution_count": 54,
   "metadata": {},
   "outputs": [
    {
     "name": "stdout",
     "output_type": "stream",
     "text": [
      "welcome\n"
     ]
    }
   ],
   "source": [
    "mystr = \"welcome to koding akademi\"\n",
    "\n",
    "print(mystr[0:7])"
   ]
  },
  {
   "cell_type": "code",
   "execution_count": 57,
   "metadata": {},
   "outputs": [
    {
     "name": "stdout",
     "output_type": "stream",
     "text": [
      "imedaka gnidok ot emoclew\n"
     ]
    }
   ],
   "source": [
    "mystr = \"welcome to koding akademi\"\n",
    "\n",
    "print(mystr[::-1])"
   ]
  },
  {
   "cell_type": "markdown",
   "metadata": {},
   "source": [
    "DICTIONARY"
   ]
  },
  {
   "cell_type": "code",
   "execution_count": 58,
   "metadata": {},
   "outputs": [
    {
     "name": "stdout",
     "output_type": "stream",
     "text": [
      "william\n",
      "surabaya\n"
     ]
    }
   ],
   "source": [
    "data = {\n",
    "    \"nama\" : \"william\",\n",
    "    \"alamat\" : \"surabaya\"\n",
    "}\n",
    "\n",
    "print(data[\"nama\"])\n",
    "print(data[\"alamat\"])"
   ]
  },
  {
   "cell_type": "code",
   "execution_count": 59,
   "metadata": {},
   "outputs": [
    {
     "name": "stdout",
     "output_type": "stream",
     "text": [
      "william\n",
      "surabaya\n"
     ]
    }
   ],
   "source": [
    "data = dict(nama = \"william\", alamat = \"surabaya\")\n",
    "\n",
    "print(data[\"nama\"])\n",
    "print(data[\"alamat\"])"
   ]
  },
  {
   "cell_type": "code",
   "execution_count": 61,
   "metadata": {},
   "outputs": [
    {
     "name": "stdout",
     "output_type": "stream",
     "text": [
      "nama\n",
      "william\n",
      "alamat\n",
      "surabaya\n"
     ]
    }
   ],
   "source": [
    "data = {\n",
    "    \"nama\" : \"william\",\n",
    "    \"alamat\" : \"surabaya\"\n",
    "}\n",
    "\n",
    "for i in data:\n",
    "    print(i)\n",
    "    print(data[i])"
   ]
  },
  {
   "cell_type": "markdown",
   "metadata": {},
   "source": [
    "UPDATE DICTIONARY"
   ]
  },
  {
   "cell_type": "code",
   "execution_count": 63,
   "metadata": {},
   "outputs": [
    {
     "name": "stdout",
     "output_type": "stream",
     "text": [
      "{'nama': 'wahyu', 'alamat': 'surabaya'}\n"
     ]
    }
   ],
   "source": [
    "data = {\n",
    "    \"nama\" : \"william\",\n",
    "    \"alamat\" : \"surabaya\"\n",
    "}\n",
    "\n",
    "data[\"nama\"] = \"wahyu\"\n",
    "print(data)"
   ]
  },
  {
   "cell_type": "markdown",
   "metadata": {},
   "source": [
    "DELETE DICTIONARY"
   ]
  },
  {
   "cell_type": "code",
   "execution_count": 64,
   "metadata": {},
   "outputs": [
    {
     "name": "stdout",
     "output_type": "stream",
     "text": [
      "{'alamat': 'surabaya'}\n"
     ]
    }
   ],
   "source": [
    "data = {\n",
    "    \"nama\" : \"william\",\n",
    "    \"alamat\" : \"surabaya\"\n",
    "}\n",
    "\n",
    "del data[\"nama\"]\n",
    "print(data)"
   ]
  },
  {
   "cell_type": "code",
   "execution_count": 65,
   "metadata": {},
   "outputs": [
    {
     "name": "stdout",
     "output_type": "stream",
     "text": [
      "{'alamat': 'surabaya'}\n",
      "william\n"
     ]
    }
   ],
   "source": [
    "data = {\n",
    "    \"nama\" : \"william\",\n",
    "    \"alamat\" : \"surabaya\"\n",
    "}\n",
    "\n",
    "hapus = data.pop(\"nama\")\n",
    "print(data)\n",
    "print(hapus)"
   ]
  },
  {
   "cell_type": "markdown",
   "metadata": {},
   "source": [
    "ADD DICTIONARY"
   ]
  },
  {
   "cell_type": "code",
   "execution_count": 66,
   "metadata": {},
   "outputs": [
    {
     "name": "stdout",
     "output_type": "stream",
     "text": [
      "{'nama': 'william', 'alamat': 'surabaya', 'status': 'lajang'}\n"
     ]
    }
   ],
   "source": [
    "data = {\n",
    "    \"nama\" : \"william\",\n",
    "    \"alamat\" : \"surabaya\"\n",
    "}\n",
    "\n",
    "data.update({\"status\": \"lajang\"})\n",
    "print(data)"
   ]
  },
  {
   "cell_type": "code",
   "execution_count": 67,
   "metadata": {},
   "outputs": [
    {
     "name": "stdout",
     "output_type": "stream",
     "text": [
      "['10']\n",
      "{'nama': 'william'}\n"
     ]
    }
   ],
   "source": [
    "test = [input(\"angka : \")]\n",
    "test2 = {\n",
    "    \"nama\" : input(\"silahkan masukkan nama : \")\n",
    "}\n",
    "print(test)\n",
    "print(test2)"
   ]
  },
  {
   "cell_type": "markdown",
   "metadata": {},
   "source": [
    "ASSIGNMENT"
   ]
  },
  {
   "cell_type": "code",
   "execution_count": 72,
   "metadata": {},
   "outputs": [
    {
     "name": "stdout",
     "output_type": "stream",
     "text": [
      "nama = william\n",
      "umur = 29\n",
      "alamat = tengger raya\n",
      "username = williamwilliam\n",
      "password = 12345\n"
     ]
    }
   ],
   "source": [
    "data = {\n",
    "    \"nama\" : input(\"silahkan masukkan nama : \"),\n",
    "    \"umur\" : input(\"silahkan masukkan umur : \"),\n",
    "    \"alamat\" : input(\"silahkan masukkan alamat : \"),\n",
    "    \"username\" : input(\"silahkan masukkan username : \"),\n",
    "    \"password\" : input(\"silahkan masukkan password : \"),\n",
    "}\n",
    "\n",
    "print(f\"nama = {data[\"nama\"]}\")\n",
    "print(f\"umur = {data[\"umur\"]}\")\n",
    "print(f\"alamat = {data[\"alamat\"]}\")\n",
    "print(f\"username = {data[\"username\"]}\")\n",
    "print(f\"password = {data[\"password\"]}\")"
   ]
  },
  {
   "cell_type": "code",
   "execution_count": 73,
   "metadata": {},
   "outputs": [
    {
     "name": "stdout",
     "output_type": "stream",
     "text": [
      "{'finance': 'Ngomongin Uang'}\n"
     ]
    }
   ],
   "source": [
    "buku = {\n",
    "    \"action\" : \"DC\",\n",
    "    \"finance\" : \"Ngomongin Uang\" \n",
    "}\n",
    "\n",
    "kondisi = input(\"tambah / hapus : \")\n",
    "\n",
    "if kondisi == \"tambah\":\n",
    "    jenis = input(\"masukkan jenis : \")\n",
    "    judul = input(\"masukkan buku : \")\n",
    "    buku.update({jenis : judul})\n",
    "    print(buku)\n",
    "elif kondisi == \"hapus\":\n",
    "    jenis = input(\"masukkan jenis buku yang dihapus : \")\n",
    "    del buku[jenis]\n",
    "    print(buku)"
   ]
  }
 ],
 "metadata": {
  "kernelspec": {
   "display_name": "Python 3",
   "language": "python",
   "name": "python3"
  },
  "language_info": {
   "codemirror_mode": {
    "name": "ipython",
    "version": 3
   },
   "file_extension": ".py",
   "mimetype": "text/x-python",
   "name": "python",
   "nbconvert_exporter": "python",
   "pygments_lexer": "ipython3",
   "version": "3.13.0"
  }
 },
 "nbformat": 4,
 "nbformat_minor": 2
}
