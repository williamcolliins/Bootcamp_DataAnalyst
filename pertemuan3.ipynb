{
 "cells": [
  {
   "cell_type": "markdown",
   "metadata": {},
   "source": [
    "OPERATOR ARITMATIKA"
   ]
  },
  {
   "cell_type": "code",
   "execution_count": 4,
   "metadata": {},
   "outputs": [
    {
     "name": "stdout",
     "output_type": "stream",
     "text": [
      "tambah = 25\n",
      "kurang = -5\n",
      "kali = 150\n",
      "bagi = 0.6666666666666666\n",
      "modulo = 10\n",
      "pangkat = 1000000000000000\n"
     ]
    }
   ],
   "source": [
    "angka1 = 10\n",
    "angka2 = 15\n",
    "\n",
    "tambah = angka1 + angka2\n",
    "kurang = angka1 - angka2\n",
    "kali = angka1 * angka2\n",
    "bagi = angka1 / angka2\n",
    "modulo = angka1 % angka2\n",
    "pangkat = angka1 ** angka2\n",
    "\n",
    "print(f\"tambah = {tambah}\")\n",
    "print(f\"kurang = {kurang}\")\n",
    "print(f\"kali = {kali}\")\n",
    "print(f\"bagi = {bagi}\")\n",
    "print(f\"modulo = {modulo}\")\n",
    "print(f\"pangkat = {pangkat}\")\n"
   ]
  },
  {
   "cell_type": "code",
   "execution_count": 6,
   "metadata": {},
   "outputs": [
    {
     "name": "stdout",
     "output_type": "stream",
     "text": [
      "helloworld\n"
     ]
    }
   ],
   "source": [
    "kalimat = \"hello\"\n",
    "world = \"world\"\n",
    "\n",
    "hasil = kalimat + world\n",
    "\n",
    "print(hasil)"
   ]
  },
  {
   "cell_type": "markdown",
   "metadata": {},
   "source": [
    "OPERATOR PENUGASAN"
   ]
  },
  {
   "cell_type": "code",
   "execution_count": 12,
   "metadata": {},
   "outputs": [
    {
     "name": "stdout",
     "output_type": "stream",
     "text": [
      "10\n",
      "11\n",
      "9\n",
      "3.0\n",
      "1.0\n",
      "2.0\n",
      "4.0\n"
     ]
    }
   ],
   "source": [
    "angka = 10\n",
    "print(angka)\n",
    "angka += 1\n",
    "print(angka)\n",
    "angka -= 2\n",
    "print(angka)\n",
    "angka /= 3\n",
    "print(angka)\n",
    "angka %= 2\n",
    "print(angka)\n",
    "angka *= 2\n",
    "print(angka)\n",
    "angka **= 2\n",
    "print(angka)"
   ]
  },
  {
   "cell_type": "markdown",
   "metadata": {},
   "source": [
    "OPERATOR PERBANDINGAN"
   ]
  },
  {
   "cell_type": "code",
   "execution_count": 18,
   "metadata": {},
   "outputs": [
    {
     "name": "stdout",
     "output_type": "stream",
     "text": [
      "True\n",
      "False\n",
      "False\n",
      "True\n",
      "False\n",
      "True\n"
     ]
    }
   ],
   "source": [
    "angka1 = 20\n",
    "angka2 = 40\n",
    "\n",
    "print(angka1 < angka2) # 1 Kondisi\n",
    "print(angka1 > angka2)\n",
    "print(angka1 == angka2)\n",
    "print(angka1 != angka2)\n",
    "print(angka1 >= angka2)\n",
    "print(angka1 <= angka2)"
   ]
  },
  {
   "cell_type": "markdown",
   "metadata": {},
   "source": [
    "OPERATOR LOGIKA"
   ]
  },
  {
   "cell_type": "code",
   "execution_count": 20,
   "metadata": {},
   "outputs": [
    {
     "name": "stdout",
     "output_type": "stream",
     "text": [
      "False\n",
      "True\n"
     ]
    }
   ],
   "source": [
    "angka1 = 20\n",
    "angka2 = 40\n",
    "angka3 = 10\n",
    "angka4 = 50\n",
    "\n",
    "# AND :\n",
    "# 1. True and False = False\n",
    "# 2. True and True = True\n",
    "# 3. False and False = False\n",
    "\n",
    "# OR :\n",
    "# 1. True or False = True\n",
    "# 2. True or True = True\n",
    "# 3. False or False = False\n",
    "\n",
    "print(angka1 < angka2 and angka3 > angka4)\n",
    "print(angka1 < angka2 or angka3 > angka4)\n"
   ]
  },
  {
   "cell_type": "markdown",
   "metadata": {},
   "source": [
    "IN, NOT IN, IS"
   ]
  },
  {
   "cell_type": "code",
   "execution_count": 23,
   "metadata": {},
   "outputs": [
    {
     "name": "stdout",
     "output_type": "stream",
     "text": [
      "False\n",
      "True\n",
      "False\n"
     ]
    }
   ],
   "source": [
    "data = [1, 2, 3, 4, 5]\n",
    "angka = 5\n",
    "angka = 20\n",
    "\n",
    "print(angka in data)\n",
    "print(angka not in data)\n",
    "print(angka is angka2)"
   ]
  },
  {
   "cell_type": "markdown",
   "metadata": {},
   "source": [
    "ASSIGNMENT"
   ]
  },
  {
   "cell_type": "code",
   "execution_count": 30,
   "metadata": {},
   "outputs": [
    {
     "name": "stdout",
     "output_type": "stream",
     "text": [
      "1\n",
      "2\n",
      "3\n",
      "4\n",
      "5\n",
      "5\n",
      "4\n",
      "3\n",
      "2\n",
      "1\n",
      "0\n"
     ]
    }
   ],
   "source": [
    "angka = 1\n",
    "print(angka)\n",
    "angka += 1\n",
    "print(angka)\n",
    "angka += 1\n",
    "print(angka)\n",
    "angka += 1\n",
    "print(angka)\n",
    "angka += 1\n",
    "print(angka)\n",
    "\n",
    "angka = 5\n",
    "print(angka)\n",
    "angka -= 1\n",
    "print(angka)\n",
    "angka -= 1\n",
    "print(angka)\n",
    "angka -= 1\n",
    "print(angka)\n",
    "angka -= 1\n",
    "print(angka)\n",
    "angka -= 1\n",
    "print(angka)\n",
    "\n"
   ]
  },
  {
   "cell_type": "code",
   "execution_count": 32,
   "metadata": {},
   "outputs": [
    {
     "name": "stdout",
     "output_type": "stream",
     "text": [
      "True\n",
      "False\n"
     ]
    }
   ],
   "source": [
    "num1 = int(input(\"angka1\"))\n",
    "num2 = int(input(\"angka2\"))\n",
    "num3 = int(input(\"angka3\"))\n",
    "num4 = int(input(\"angka4\"))\n",
    "\n",
    "print(num1 > num3)\n",
    "print(num2 < num4)\n"
   ]
  },
  {
   "cell_type": "code",
   "execution_count": 34,
   "metadata": {},
   "outputs": [
    {
     "name": "stdout",
     "output_type": "stream",
     "text": [
      "4\n"
     ]
    }
   ],
   "source": [
    "num1 = int(input(\"angka1\"))\n",
    "num2 = int(input(\"angka\"))\n",
    "\n",
    "print(num1 ** num2)"
   ]
  },
  {
   "cell_type": "code",
   "execution_count": 35,
   "metadata": {},
   "outputs": [
    {
     "name": "stdout",
     "output_type": "stream",
     "text": [
      "True\n"
     ]
    }
   ],
   "source": [
    "angka = 20\n",
    "\n",
    "print(angka % 2 == 0)"
   ]
  },
  {
   "cell_type": "markdown",
   "metadata": {},
   "source": [
    "IF STATEMENT"
   ]
  },
  {
   "cell_type": "code",
   "execution_count": 45,
   "metadata": {},
   "outputs": [
    {
     "name": "stdout",
     "output_type": "stream",
     "text": [
      "hello admin\n",
      "test\n"
     ]
    }
   ],
   "source": [
    "username = \"admin\"\n",
    "\n",
    "if username == \"admin\":\n",
    "    print(f\"hello {username}\")\n",
    "\n",
    "if True:\n",
    "        print(\"test\")"
   ]
  },
  {
   "cell_type": "markdown",
   "metadata": {},
   "source": [
    "ELSE STATEMENT"
   ]
  },
  {
   "cell_type": "code",
   "execution_count": 47,
   "metadata": {},
   "outputs": [
    {
     "name": "stdout",
     "output_type": "stream",
     "text": [
      "bukan admin\n"
     ]
    }
   ],
   "source": [
    "username = \"william\"\n",
    "\n",
    "if username == \"admin\":\n",
    "    print(f\"hello {username}\")\n",
    "else:\n",
    "    print(\"bukan admin\")"
   ]
  },
  {
   "cell_type": "markdown",
   "metadata": {},
   "source": [
    "ELIF STATEMENT"
   ]
  },
  {
   "cell_type": "code",
   "execution_count": 52,
   "metadata": {},
   "outputs": [
    {
     "name": "stdout",
     "output_type": "stream",
     "text": [
      "bukan admin\n"
     ]
    }
   ],
   "source": [
    "username = \"wahyu\"\n",
    "\n",
    "if username == \"admin\":\n",
    "    print(f\"hello {username}\")\n",
    "elif username == \"william\":\n",
    "    print(f\"hello {username}\")\n",
    "else:\n",
    "    print(\"bukan admin\")"
   ]
  },
  {
   "cell_type": "code",
   "execution_count": 54,
   "metadata": {},
   "outputs": [
    {
     "name": "stdout",
     "output_type": "stream",
     "text": [
      "lebih besar\n"
     ]
    }
   ],
   "source": [
    "angka = 30\n",
    "\n",
    "if angka > 20:\n",
    "    print(\"lebih besar\")\n",
    "else:\n",
    "    print(\"lebih kecil\")"
   ]
  },
  {
   "cell_type": "code",
   "execution_count": 56,
   "metadata": {},
   "outputs": [
    {
     "name": "stdout",
     "output_type": "stream",
     "text": [
      "halo admin\n"
     ]
    }
   ],
   "source": [
    "username = \"admin\"\n",
    "password = 123\n",
    "\n",
    "if username == \"admin\" and password == 123:\n",
    "    print(\"halo admin\")\n",
    "else:\n",
    "    print(\"bukan admin\")"
   ]
  },
  {
   "cell_type": "markdown",
   "metadata": {},
   "source": [
    "ASSIGNMENT"
   ]
  },
  {
   "cell_type": "code",
   "execution_count": 61,
   "metadata": {},
   "outputs": [
    {
     "name": "stdout",
     "output_type": "stream",
     "text": [
      "nilai D\n"
     ]
    }
   ],
   "source": [
    "nilai = int(input(\"nilai : \"))\n",
    "\n",
    "if nilai <= 50:\n",
    "    print(\"nilai D\")\n",
    "elif nilai == 70:\n",
    "    print(\"nilai C\")\n",
    "elif nilai == 80:\n",
    "    print(\"nilai B\")\n",
    "elif nilai >= 80:\n",
    "    print(\"nilai A\")"
   ]
  },
  {
   "cell_type": "code",
   "execution_count": 64,
   "metadata": {},
   "outputs": [
    {
     "name": "stdout",
     "output_type": "stream",
     "text": [
      "angka genap\n"
     ]
    }
   ],
   "source": [
    "angka = int(input(\"angka : \"))\n",
    "\n",
    "if angka % 2 == 0:\n",
    "    print(\"angka genap\")\n",
    "else:\n",
    "    print(\"angka ganjil\")"
   ]
  },
  {
   "cell_type": "code",
   "execution_count": 67,
   "metadata": {},
   "outputs": [
    {
     "name": "stdout",
     "output_type": "stream",
     "text": [
      "listrik gratis !\n"
     ]
    }
   ],
   "source": [
    "kwh = int(input(\"masukkan kwh : \"))\n",
    "\n",
    "if kwh > 0 and kwh < 100:\n",
    "    print(\"listrik gratis !\")\n",
    "elif kwh > 100 and kwh < 200:\n",
    "    harga = kwh * 5\n",
    "    print(f\"bayar = {harga}\")\n",
    "elif kwh > 200:\n",
    "    harga = kwh * 10\n",
    "    print(f\"bayar = {harga}\")\n",
    "else:\n",
    "    print(\"kwh tidak sesuai\")"
   ]
  }
 ],
 "metadata": {
  "kernelspec": {
   "display_name": "Python 3",
   "language": "python",
   "name": "python3"
  },
  "language_info": {
   "codemirror_mode": {
    "name": "ipython",
    "version": 3
   },
   "file_extension": ".py",
   "mimetype": "text/x-python",
   "name": "python",
   "nbconvert_exporter": "python",
   "pygments_lexer": "ipython3",
   "version": "3.13.0"
  }
 },
 "nbformat": 4,
 "nbformat_minor": 2
}
