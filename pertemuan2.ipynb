{
 "cells": [
  {
   "cell_type": "code",
   "execution_count": 3,
   "metadata": {},
   "outputs": [
    {
     "name": "stdout",
     "output_type": "stream",
     "text": [
      "emik\n",
      "Nama : emik\n"
     ]
    }
   ],
   "source": [
    "nama = \"emik\"\n",
    "_nama = \"william\"\n",
    "__nama = \"agung\"\n",
    "nama_depan = \"test\"\n",
    "namaDepan = \"wahyu\"\n",
    "\n",
    "print(nama)\n",
    "print(\"Nama :\", nama)"
   ]
  },
  {
   "cell_type": "code",
   "execution_count": 10,
   "metadata": {},
   "outputs": [
    {
     "name": "stdout",
     "output_type": "stream",
     "text": [
      "nama : agung 10 tipe data : <class 'str'>\n",
      "10\n",
      "10.5\n",
      "True\n",
      "False\n"
     ]
    }
   ],
   "source": [
    "nama = \"agung 10\" # string (tipe data menyimpan huruf/tulisan)\n",
    "angka = 10 # int / integer (tipe data menyimpan bilangan bulat)\n",
    "koma = 10.5 # float (tipe data menyimpan bilangan desimal)\n",
    "benar = True # boolean (tipe data menyimpan true/false)\n",
    "salah = False\n",
    "\n",
    "print(\"nama :\", nama, \"tipe data :\", type (nama))\n",
    "print(angka)\n",
    "print(koma)\n",
    "print(benar)\n",
    "print(salah)"
   ]
  },
  {
   "cell_type": "markdown",
   "metadata": {},
   "source": [
    "KONVERSI"
   ]
  },
  {
   "cell_type": "code",
   "execution_count": 11,
   "metadata": {},
   "outputs": [
    {
     "name": "stdout",
     "output_type": "stream",
     "text": [
      "10.5\n",
      "<class 'int'>\n",
      "10\n",
      "<class 'int'>\n"
     ]
    }
   ],
   "source": [
    "angka1 = 10.5\n",
    "angka1_int = int(angka1)\n",
    "\n",
    "print(angka1)\n",
    "print(type(angka))\n",
    "\n",
    "print(angka1_int)\n",
    "print(type(angka1_int))"
   ]
  },
  {
   "cell_type": "markdown",
   "metadata": {},
   "source": [
    "ASSIGNMENT 1"
   ]
  },
  {
   "cell_type": "code",
   "execution_count": 12,
   "metadata": {},
   "outputs": [
    {
     "name": "stdout",
     "output_type": "stream",
     "text": [
      "musim gugur\n"
     ]
    }
   ],
   "source": [
    "musim = \"musim gugur\"\n",
    "\n",
    "print(musim)"
   ]
  },
  {
   "cell_type": "code",
   "execution_count": 14,
   "metadata": {},
   "outputs": [
    {
     "name": "stdout",
     "output_type": "stream",
     "text": [
      "081212121212\n"
     ]
    }
   ],
   "source": [
    "number_str = \"081212121212\"\n",
    "print(number_str)"
   ]
  },
  {
   "cell_type": "code",
   "execution_count": 18,
   "metadata": {},
   "outputs": [
    {
     "name": "stdout",
     "output_type": "stream",
     "text": [
      "type integer = 10\n",
      "type integer = 0.5\n",
      "type integer = k\n",
      "type integer = koding akademi\n",
      "type integer = True\n"
     ]
    }
   ],
   "source": [
    "angka1 = 10\n",
    "angka2 = 0.5\n",
    "angka3 = \"k\"\n",
    "angka4 = \"koding akademi\"\n",
    "angka5 = True\n",
    "\n",
    "print(\"type integer =\", angka1)\n",
    "print(\"type integer =\", angka2)\n",
    "print(\"type integer =\", angka3)\n",
    "print(\"type integer =\", angka4) \n",
    "print(\"type integer =\", angka5)\n",
    "     "
   ]
  },
  {
   "cell_type": "code",
   "execution_count": 20,
   "metadata": {},
   "outputs": [
    {
     "name": "stdout",
     "output_type": "stream",
     "text": [
      "45.0\n",
      "0\n",
      "0xc\n",
      "119\n"
     ]
    }
   ],
   "source": [
    "angka1 = 45\n",
    "angka2 = 0.667\n",
    "angka3 = 12\n",
    "angka4 = 119\n",
    "\n",
    "angka1_float = float(angka1)\n",
    "angka2_int = int(angka2)\n",
    "angka3_hex = hex(angka3)\n",
    "angka4_str = str(angka4)\n",
    "\n",
    "print(angka1_float)\n",
    "print(angka2_int)\n",
    "print(angka3_hex)\n",
    "print(angka4_str)"
   ]
  },
  {
   "cell_type": "markdown",
   "metadata": {},
   "source": [
    "INPUT & OUTPUT"
   ]
  },
  {
   "cell_type": "code",
   "execution_count": 24,
   "metadata": {},
   "outputs": [
    {
     "name": "stdout",
     "output_type": "stream",
     "text": [
      "halo william\n",
      "<class 'str'>\n"
     ]
    }
   ],
   "source": [
    "nama = input(\"nama:\")\n",
    "print(\"halo\", nama)\n",
    "print(type(nama))\n"
   ]
  },
  {
   "cell_type": "code",
   "execution_count": 25,
   "metadata": {},
   "outputs": [
    {
     "name": "stdout",
     "output_type": "stream",
     "text": [
      "20\n",
      "<class 'int'>\n"
     ]
    }
   ],
   "source": [
    "angka = int(input(\"angka :\"))\n",
    "print(angka)\n",
    "print(type(angka))"
   ]
  },
  {
   "cell_type": "code",
   "execution_count": 27,
   "metadata": {},
   "outputs": [
    {
     "name": "stdout",
     "output_type": "stream",
     "text": [
      "hello \n",
      "world\n"
     ]
    }
   ],
   "source": [
    "print(\"hello \\nworld\")"
   ]
  },
  {
   "cell_type": "code",
   "execution_count": 29,
   "metadata": {},
   "outputs": [
    {
     "name": "stdout",
     "output_type": "stream",
     "text": [
      "halo teman!"
     ]
    }
   ],
   "source": [
    "print(\"halo \", end =\"\")\n",
    "print(\"teman\", end =\"!\")"
   ]
  },
  {
   "cell_type": "code",
   "execution_count": 31,
   "metadata": {},
   "outputs": [
    {
     "name": "stdout",
     "output_type": "stream",
     "text": [
      "a.b.c\n"
     ]
    }
   ],
   "source": [
    "print(\"a\",\"b\",\"c\", sep = \".\")"
   ]
  },
  {
   "cell_type": "markdown",
   "metadata": {},
   "source": [
    "FORMAT"
   ]
  },
  {
   "cell_type": "code",
   "execution_count": 43,
   "metadata": {},
   "outputs": [
    {
     "name": "stdout",
     "output_type": "stream",
     "text": [
      "nama : william alamat : surabaya\n",
      "nama : william alamat : surabaya\n",
      "nama : william alamat : surabaya\n",
      "nama : surabaya alamat : william\n",
      "nama : william alamat : surabaya\n",
      "nama : william alamat : surabaya angka : 10\n"
     ]
    }
   ],
   "source": [
    "nama = \"william\"\n",
    "alamat = \"surabaya\"\n",
    "angka = 10\n",
    "\n",
    "print(\"nama :\",nama,\"alamat :\",alamat) #cara 1\n",
    "print(f\"nama : {nama} alamat : {alamat}\") #cara 2\n",
    "print(\"nama : {} alamat : {}\".format(nama, alamat)) #cara 3\n",
    "print(\"nama : {1} alamat : {0}\".format(nama, alamat)) #cara 4\n",
    "print(\"nama : {a} alamat : {b}\".format(a = nama, b = alamat)) #cara 5\n",
    "print(\"nama : %s alamat : %s angka : %d\" %(nama, alamat, angka)) #cara 6"
   ]
  },
  {
   "cell_type": "markdown",
   "metadata": {},
   "source": [
    "ASSIGNMENT 2"
   ]
  },
  {
   "cell_type": "code",
   "execution_count": 46,
   "metadata": {},
   "outputs": [
    {
     "name": "stdout",
     "output_type": "stream",
     "text": [
      "halo robert selamat datang di koding akademi!\n",
      "14\n",
      "denpasar\n"
     ]
    }
   ],
   "source": [
    "nama = input(\"masukkan nama\")\n",
    "umur = input(\"masukkan umur\")\n",
    "alamat = input(\"masukkan alamat\")\n",
    "\n",
    "print(f\"halo {nama} selamat datang di koding akademi!\")\n",
    "print(f\"{umur}\")\n",
    "print(f\"{alamat}\")"
   ]
  }
 ],
 "metadata": {
  "kernelspec": {
   "display_name": "Python 3",
   "language": "python",
   "name": "python3"
  },
  "language_info": {
   "codemirror_mode": {
    "name": "ipython",
    "version": 3
   },
   "file_extension": ".py",
   "mimetype": "text/x-python",
   "name": "python",
   "nbconvert_exporter": "python",
   "pygments_lexer": "ipython3",
   "version": "3.13.0"
  }
 },
 "nbformat": 4,
 "nbformat_minor": 2
}
