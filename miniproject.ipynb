{
 "cells": [
  {
   "cell_type": "code",
   "execution_count": 10,
   "metadata": {},
   "outputs": [],
   "source": [
    "import pandas as pd\n",
    "import numpy as np\n"
   ]
  },
  {
   "cell_type": "code",
   "execution_count": 3,
   "metadata": {},
   "outputs": [
    {
     "data": {
      "text/html": [
       "<div>\n",
       "<style scoped>\n",
       "    .dataframe tbody tr th:only-of-type {\n",
       "        vertical-align: middle;\n",
       "    }\n",
       "\n",
       "    .dataframe tbody tr th {\n",
       "        vertical-align: top;\n",
       "    }\n",
       "\n",
       "    .dataframe thead th {\n",
       "        text-align: right;\n",
       "    }\n",
       "</style>\n",
       "<table border=\"1\" class=\"dataframe\">\n",
       "  <thead>\n",
       "    <tr style=\"text-align: right;\">\n",
       "      <th></th>\n",
       "      <th>year</th>\n",
       "      <th>area</th>\n",
       "      <th>country</th>\n",
       "      <th>January</th>\n",
       "      <th>February</th>\n",
       "      <th>March</th>\n",
       "      <th>April</th>\n",
       "      <th>May</th>\n",
       "      <th>June</th>\n",
       "      <th>July</th>\n",
       "      <th>August</th>\n",
       "      <th>September</th>\n",
       "      <th>October</th>\n",
       "      <th>November</th>\n",
       "      <th>December</th>\n",
       "    </tr>\n",
       "  </thead>\n",
       "  <tbody>\n",
       "    <tr>\n",
       "      <th>0</th>\n",
       "      <td>2019</td>\n",
       "      <td>ASIA PACIFIC</td>\n",
       "      <td>AUSTRALIAN</td>\n",
       "      <td>95536</td>\n",
       "      <td>67474</td>\n",
       "      <td>83002</td>\n",
       "      <td>90265.0</td>\n",
       "      <td>98625</td>\n",
       "      <td>110815</td>\n",
       "      <td>123293</td>\n",
       "      <td>118556</td>\n",
       "      <td>124416</td>\n",
       "      <td>119382</td>\n",
       "      <td>105312</td>\n",
       "      <td>110711</td>\n",
       "    </tr>\n",
       "    <tr>\n",
       "      <th>1</th>\n",
       "      <td>2019</td>\n",
       "      <td>ASIA PACIFIC</td>\n",
       "      <td>BHUTAN</td>\n",
       "      <td>60</td>\n",
       "      <td>30</td>\n",
       "      <td>47</td>\n",
       "      <td>38.0</td>\n",
       "      <td>31</td>\n",
       "      <td>31</td>\n",
       "      <td>46</td>\n",
       "      <td>67</td>\n",
       "      <td>43</td>\n",
       "      <td>32</td>\n",
       "      <td>56</td>\n",
       "      <td>60</td>\n",
       "    </tr>\n",
       "    <tr>\n",
       "      <th>2</th>\n",
       "      <td>2019</td>\n",
       "      <td>ASIA PACIFIC</td>\n",
       "      <td>BANGLADESH</td>\n",
       "      <td>2262</td>\n",
       "      <td>2094</td>\n",
       "      <td>2489</td>\n",
       "      <td>2264.0</td>\n",
       "      <td>1938</td>\n",
       "      <td>4265</td>\n",
       "      <td>2656</td>\n",
       "      <td>2307</td>\n",
       "      <td>2035</td>\n",
       "      <td>2371</td>\n",
       "      <td>2164</td>\n",
       "      <td>2671</td>\n",
       "    </tr>\n",
       "    <tr>\n",
       "      <th>3</th>\n",
       "      <td>2019</td>\n",
       "      <td>ASIA PACIFIC</td>\n",
       "      <td>FIJI</td>\n",
       "      <td>91</td>\n",
       "      <td>73</td>\n",
       "      <td>72</td>\n",
       "      <td>77.0</td>\n",
       "      <td>42</td>\n",
       "      <td>62</td>\n",
       "      <td>2656</td>\n",
       "      <td>80</td>\n",
       "      <td>68</td>\n",
       "      <td>78</td>\n",
       "      <td>89</td>\n",
       "      <td>189</td>\n",
       "    </tr>\n",
       "    <tr>\n",
       "      <th>4</th>\n",
       "      <td>2019</td>\n",
       "      <td>ASIA PACIFIC</td>\n",
       "      <td>HONGKONG</td>\n",
       "      <td>1313</td>\n",
       "      <td>1367</td>\n",
       "      <td>764</td>\n",
       "      <td>6.0</td>\n",
       "      <td>1</td>\n",
       "      <td>5</td>\n",
       "      <td>2</td>\n",
       "      <td>1</td>\n",
       "      <td>0</td>\n",
       "      <td>11</td>\n",
       "      <td>0</td>\n",
       "      <td>45</td>\n",
       "    </tr>\n",
       "    <tr>\n",
       "      <th>...</th>\n",
       "      <td>...</td>\n",
       "      <td>...</td>\n",
       "      <td>...</td>\n",
       "      <td>...</td>\n",
       "      <td>...</td>\n",
       "      <td>...</td>\n",
       "      <td>...</td>\n",
       "      <td>...</td>\n",
       "      <td>...</td>\n",
       "      <td>...</td>\n",
       "      <td>...</td>\n",
       "      <td>...</td>\n",
       "      <td>...</td>\n",
       "      <td>...</td>\n",
       "      <td>...</td>\n",
       "    </tr>\n",
       "    <tr>\n",
       "      <th>357</th>\n",
       "      <td>2018</td>\n",
       "      <td>MIDDLE EAST</td>\n",
       "      <td>TURKEY</td>\n",
       "      <td>899</td>\n",
       "      <td>615</td>\n",
       "      <td>750</td>\n",
       "      <td>960.0</td>\n",
       "      <td>712</td>\n",
       "      <td>909</td>\n",
       "      <td>1306</td>\n",
       "      <td>1630</td>\n",
       "      <td>979</td>\n",
       "      <td>707</td>\n",
       "      <td>514</td>\n",
       "      <td>521</td>\n",
       "    </tr>\n",
       "    <tr>\n",
       "      <th>358</th>\n",
       "      <td>2018</td>\n",
       "      <td>MIDDLE EAST</td>\n",
       "      <td>UNITED ARAB EMIRATES</td>\n",
       "      <td>170</td>\n",
       "      <td>132</td>\n",
       "      <td>266</td>\n",
       "      <td>264.0</td>\n",
       "      <td>111</td>\n",
       "      <td>293</td>\n",
       "      <td>375</td>\n",
       "      <td>306</td>\n",
       "      <td>164</td>\n",
       "      <td>151</td>\n",
       "      <td>147</td>\n",
       "      <td>201</td>\n",
       "    </tr>\n",
       "    <tr>\n",
       "      <th>359</th>\n",
       "      <td>2018</td>\n",
       "      <td>MIDDLE EAST</td>\n",
       "      <td>YAMAN</td>\n",
       "      <td>98</td>\n",
       "      <td>49</td>\n",
       "      <td>76</td>\n",
       "      <td>55.0</td>\n",
       "      <td>23</td>\n",
       "      <td>62</td>\n",
       "      <td>40</td>\n",
       "      <td>52</td>\n",
       "      <td>67</td>\n",
       "      <td>37</td>\n",
       "      <td>60</td>\n",
       "      <td>85</td>\n",
       "    </tr>\n",
       "    <tr>\n",
       "      <th>360</th>\n",
       "      <td>2018</td>\n",
       "      <td>MIDDLE EAST</td>\n",
       "      <td>JORDAN</td>\n",
       "      <td>225</td>\n",
       "      <td>153</td>\n",
       "      <td>236</td>\n",
       "      <td>352.0</td>\n",
       "      <td>150</td>\n",
       "      <td>260</td>\n",
       "      <td>389</td>\n",
       "      <td>448</td>\n",
       "      <td>283</td>\n",
       "      <td>255</td>\n",
       "      <td>218</td>\n",
       "      <td>254</td>\n",
       "    </tr>\n",
       "    <tr>\n",
       "      <th>361</th>\n",
       "      <td>2018</td>\n",
       "      <td>OTHER NATIONALITIES</td>\n",
       "      <td>OTHER NATIONALITIES</td>\n",
       "      <td>6952</td>\n",
       "      <td>1704</td>\n",
       "      <td>1771</td>\n",
       "      <td>2484.0</td>\n",
       "      <td>2167</td>\n",
       "      <td>3711</td>\n",
       "      <td>2054</td>\n",
       "      <td>1269</td>\n",
       "      <td>1762</td>\n",
       "      <td>2604</td>\n",
       "      <td>3298</td>\n",
       "      <td>673</td>\n",
       "    </tr>\n",
       "  </tbody>\n",
       "</table>\n",
       "<p>362 rows × 15 columns</p>\n",
       "</div>"
      ],
      "text/plain": [
       "     year                 area               country  January  February  \\\n",
       "0    2019        ASIA PACIFIC             AUSTRALIAN    95536     67474   \n",
       "1    2019        ASIA PACIFIC                 BHUTAN       60        30   \n",
       "2    2019        ASIA PACIFIC             BANGLADESH     2262      2094   \n",
       "3    2019        ASIA PACIFIC                   FIJI       91        73   \n",
       "4    2019        ASIA PACIFIC               HONGKONG     1313      1367   \n",
       "..    ...                  ...                   ...      ...       ...   \n",
       "357  2018          MIDDLE EAST                TURKEY      899       615   \n",
       "358  2018          MIDDLE EAST  UNITED ARAB EMIRATES      170       132   \n",
       "359  2018          MIDDLE EAST                 YAMAN       98        49   \n",
       "360  2018          MIDDLE EAST                JORDAN      225       153   \n",
       "361  2018  OTHER NATIONALITIES   OTHER NATIONALITIES     6952      1704   \n",
       "\n",
       "     March    April    May    June    July  August  September  October  \\\n",
       "0    83002  90265.0  98625  110815  123293  118556     124416   119382   \n",
       "1       47     38.0     31      31      46      67         43       32   \n",
       "2     2489   2264.0   1938    4265    2656    2307       2035     2371   \n",
       "3       72     77.0     42      62    2656      80         68       78   \n",
       "4      764      6.0      1       5       2       1          0       11   \n",
       "..     ...      ...    ...     ...     ...     ...        ...      ...   \n",
       "357    750    960.0    712     909    1306    1630        979      707   \n",
       "358    266    264.0    111     293     375     306        164      151   \n",
       "359     76     55.0     23      62      40      52         67       37   \n",
       "360    236    352.0    150     260     389     448        283      255   \n",
       "361   1771   2484.0   2167    3711    2054    1269       1762     2604   \n",
       "\n",
       "     November  December  \n",
       "0      105312    110711  \n",
       "1          56        60  \n",
       "2        2164      2671  \n",
       "3          89       189  \n",
       "4           0        45  \n",
       "..        ...       ...  \n",
       "357       514       521  \n",
       "358       147       201  \n",
       "359        60        85  \n",
       "360       218       254  \n",
       "361      3298       673  \n",
       "\n",
       "[362 rows x 15 columns]"
      ]
     },
     "execution_count": 3,
     "metadata": {},
     "output_type": "execute_result"
    }
   ],
   "source": [
    "data = pd.read_csv(\"bali_tourist.csv\")\n",
    "data"
   ]
  },
  {
   "cell_type": "code",
   "execution_count": 4,
   "metadata": {},
   "outputs": [
    {
     "name": "stdout",
     "output_type": "stream",
     "text": [
      "<class 'pandas.core.frame.DataFrame'>\n",
      "RangeIndex: 362 entries, 0 to 361\n",
      "Data columns (total 15 columns):\n",
      " #   Column     Non-Null Count  Dtype  \n",
      "---  ------     --------------  -----  \n",
      " 0   year       362 non-null    int64  \n",
      " 1   area       362 non-null    object \n",
      " 2   country    362 non-null    object \n",
      " 3   January    362 non-null    int64  \n",
      " 4   February   362 non-null    int64  \n",
      " 5   March      362 non-null    int64  \n",
      " 6   April      360 non-null    float64\n",
      " 7   May        362 non-null    int64  \n",
      " 8   June       362 non-null    int64  \n",
      " 9   July       362 non-null    int64  \n",
      " 10  August     362 non-null    int64  \n",
      " 11  September  362 non-null    int64  \n",
      " 12  October    362 non-null    int64  \n",
      " 13  November   362 non-null    int64  \n",
      " 14  December   362 non-null    int64  \n",
      "dtypes: float64(1), int64(12), object(2)\n",
      "memory usage: 42.6+ KB\n"
     ]
    }
   ],
   "source": [
    "data.info()"
   ]
  },
  {
   "cell_type": "markdown",
   "metadata": {},
   "source": [
    "Nomor 1"
   ]
  },
  {
   "cell_type": "code",
   "execution_count": 5,
   "metadata": {},
   "outputs": [
    {
     "name": "stdout",
     "output_type": "stream",
     "text": [
      "6073353.0\n",
      "6275045.0\n"
     ]
    }
   ],
   "source": [
    "data_2018 = data.loc[data[\"year\"] == 2018]\n",
    "data_2019 = data.loc[data[\"year\"] == 2019]\n",
    "\n",
    "sum_2018 = data_2018.loc[0:, \"January\" : \"December\"].sum().sum()\n",
    "sum_2019 = data_2019.loc[0:, \"January\" : \"December\"].sum().sum()\n",
    "\n",
    "print(sum_2018)\n",
    "print(sum_2019)"
   ]
  },
  {
   "cell_type": "markdown",
   "metadata": {},
   "source": [
    "Nomor 2"
   ]
  },
  {
   "cell_type": "code",
   "execution_count": 38,
   "metadata": {},
   "outputs": [
    {
     "name": "stdout",
     "output_type": "stream",
     "text": [
      "506112.75\n",
      "522920.4166666667\n"
     ]
    }
   ],
   "source": [
    "sum_2018 = data_2018.loc[0:, \"January\" : \"December\"].sum().mean()\n",
    "sum_2019 = data_2019.loc[0:, \"January\" : \"December\"].sum().mean()\n",
    "\n",
    "print(sum_2018)\n",
    "print(sum_2019)"
   ]
  },
  {
   "cell_type": "markdown",
   "metadata": {},
   "source": [
    "Nomor 3"
   ]
  },
  {
   "cell_type": "code",
   "execution_count": 43,
   "metadata": {},
   "outputs": [
    {
     "name": "stdout",
     "output_type": "stream",
     "text": [
      "July\n",
      "August\n"
     ]
    }
   ],
   "source": [
    "idmax_2018 = data_2018.loc[0:, \"January\" : \"December\"].sum().idxmax()\n",
    "idmax_2019 = data_2019.loc[0:, \"January\" : \"December\"].sum().idxmax()\n",
    "\n",
    "print(idmax_2018)\n",
    "print(idmax_2019)"
   ]
  },
  {
   "cell_type": "markdown",
   "metadata": {},
   "source": [
    "Nomor 4"
   ]
  },
  {
   "cell_type": "code",
   "execution_count": 44,
   "metadata": {},
   "outputs": [
    {
     "name": "stdout",
     "output_type": "stream",
     "text": [
      "January\n",
      "February\n"
     ]
    }
   ],
   "source": [
    "idmin_2018 = data_2018.loc[0:, \"January\" : \"December\"].sum().idxmin()\n",
    "idmin_2019 = data_2019.loc[0:, \"January\" : \"December\"].sum().idxmin()\n",
    "\n",
    "print(idmin_2018)\n",
    "print(idmin_2019)"
   ]
  },
  {
   "cell_type": "markdown",
   "metadata": {},
   "source": [
    "Nomor 5"
   ]
  },
  {
   "cell_type": "code",
   "execution_count": 49,
   "metadata": {},
   "outputs": [
    {
     "name": "stdout",
     "output_type": "stream",
     "text": [
      "January      ASIA PACIFIC \n",
      "February     ASIA PACIFIC \n",
      "March        ASIA PACIFIC \n",
      "April        ASIA PACIFIC \n",
      "May          ASIA PACIFIC \n",
      "June         ASIA PACIFIC \n",
      "July         ASIA PACIFIC \n",
      "August       ASIA PACIFIC \n",
      "September    ASIA PACIFIC \n",
      "October      ASIA PACIFIC \n",
      "November     ASIA PACIFIC \n",
      "December     ASIA PACIFIC \n",
      "dtype: object\n",
      "January      ASIA PACIFIC \n",
      "February     ASIA PACIFIC \n",
      "March        ASIA PACIFIC \n",
      "April        ASIA PACIFIC \n",
      "May          ASIA PACIFIC \n",
      "June         ASIA PACIFIC \n",
      "July         ASIA PACIFIC \n",
      "August       ASIA PACIFIC \n",
      "September    ASIA PACIFIC \n",
      "October      ASIA PACIFIC \n",
      "November     ASIA PACIFIC \n",
      "December     ASIA PACIFIC \n",
      "dtype: object\n"
     ]
    }
   ],
   "source": [
    "kolom = data_2018.loc[0:, \"January\" : \"December\"].columns\n",
    "\n",
    "area_2018 = data_2018.groupby(\"area\")[kolom].sum().idxmax()\n",
    "area_2019 = data_2019.groupby(\"area\")[kolom].sum().idxmax()\n",
    "\n",
    "print(area_2018)\n",
    "print(area_2019)"
   ]
  },
  {
   "cell_type": "markdown",
   "metadata": {},
   "source": [
    "Nomor 6"
   ]
  },
  {
   "cell_type": "code",
   "execution_count": 8,
   "metadata": {},
   "outputs": [
    {
     "ename": "NameError",
     "evalue": "name 'max_2018' is not defined",
     "output_type": "error",
     "traceback": [
      "\u001b[1;31m---------------------------------------------------------------------------\u001b[0m",
      "\u001b[1;31mNameError\u001b[0m                                 Traceback (most recent call last)",
      "Cell \u001b[1;32mIn[8], line 13\u001b[0m\n\u001b[0;32m      9\u001b[0m     data\u001b[38;5;241m.\u001b[39mupdate({kolom[i] : [jumlah_2018\u001b[38;5;241m.\u001b[39miloc[i], jumlah_2019\u001b[38;5;241m.\u001b[39miloc[i]]})\n\u001b[0;32m     11\u001b[0m df \u001b[38;5;241m=\u001b[39m pd\u001b[38;5;241m.\u001b[39mDataFrame(data)\n\u001b[1;32m---> 13\u001b[0m df[\u001b[38;5;124m\"\u001b[39m\u001b[38;5;124mmax\u001b[39m\u001b[38;5;124m\"\u001b[39m] \u001b[38;5;241m=\u001b[39m [\u001b[43mmax_2018\u001b[49m, max_2019]\n\u001b[0;32m     14\u001b[0m df[\u001b[38;5;124m\"\u001b[39m\u001b[38;5;124mmin\u001b[39m\u001b[38;5;124m\"\u001b[39m] \u001b[38;5;241m=\u001b[39m [min_2018, min_2019]\n\u001b[0;32m     16\u001b[0m df[\u001b[38;5;124m\"\u001b[39m\u001b[38;5;124mTotal\u001b[39m\u001b[38;5;124m\"\u001b[39m] \u001b[38;5;241m=\u001b[39m [sum_2018, sum_2019]\n",
      "\u001b[1;31mNameError\u001b[0m: name 'max_2018' is not defined"
     ]
    }
   ],
   "source": [
    "jumlah_2018 = data_2018.loc[0:, \"January\" : \"December\"].sum()\n",
    "jumlah_2019 = data_2019.loc[0:, \"January\" : \"December\"].sum()\n",
    "\n",
    "data = {\n",
    "    \"year\" : [2018, 2019]\n",
    "}\n",
    "\n",
    "for i in range(len(kolom)):\n",
    "    data.update({kolom[i] : [jumlah_2018.iloc[i], jumlah_2019.iloc[i]]})\n",
    "\n",
    "df = pd.DataFrame(data)\n",
    "\n",
    "df[\"max\"] = [max_2018, max_2019]\n",
    "df[\"min\"] = [min_2018, min_2019]\n",
    "\n",
    "df[\"Total\"] = [sum_2018, sum_2019]\n",
    "df[\"Rata\"] = [mean_2018, mean_2019]\n",
    "\n",
    "df.set_index(\"year\", inplace=True)\n",
    "\n",
    "df"
   ]
  },
  {
   "cell_type": "code",
   "execution_count": null,
   "metadata": {},
   "outputs": [],
   "source": []
  }
 ],
 "metadata": {
  "kernelspec": {
   "display_name": "Python 3",
   "language": "python",
   "name": "python3"
  },
  "language_info": {
   "codemirror_mode": {
    "name": "ipython",
    "version": 3
   },
   "file_extension": ".py",
   "mimetype": "text/x-python",
   "name": "python",
   "nbconvert_exporter": "python",
   "pygments_lexer": "ipython3",
   "version": "3.13.0"
  }
 },
 "nbformat": 4,
 "nbformat_minor": 2
}
